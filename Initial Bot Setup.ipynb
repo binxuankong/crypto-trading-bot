{
 "cells": [
  {
   "cell_type": "code",
   "execution_count": 2,
   "metadata": {},
   "outputs": [],
   "source": [
    "import logging\n",
    "import telegram\n",
    "import emoji\n",
    "from telegram.ext import Updater, CommandHandler, MessageHandler, Filters\n",
    "from binance.client import Client\n",
    "from binance.exceptions import BinanceAPIException\n",
    "from secrets import secrets\n",
    "\n",
    "TELEGRAM_CHAT_ID = secrets['TELEGRAM_CHAT_ID']\n",
    "TELEGRAM_TOKEN = secrets['TELEGRAM_TOKEN']\n",
    "BINANCE_API_KEY = secrets['BINANCE_API_KEY']\n",
    "BINANCE_SECRET_KEY = secrets['BINANCE_SECRET_KEY']\n",
    "BRIDGE = 'USDT'\n",
    "COINS = ['BTC', 'ETH', 'LTC', 'XRP', 'BNB', 'ADA', 'BAT', 'FTM']"
   ]
  },
  {
   "cell_type": "code",
   "execution_count": 3,
   "metadata": {},
   "outputs": [],
   "source": [
    "CHECK_TEXT = \"\"\"{} :full_moon: - {} :dollar:\n",
    ":clock1: Current Price:\\t{}\n",
    ":clock5: 5min Average Price:\\t{}\n",
    ":clock11: 24hr Average Price:\\t{}\n",
    ":repeat: 24hr Price Change:\\t{}\n",
    ":heavy_division_sign: 24hr Price Change %:\\t{}\n",
    ":unlock: Open Price:\\t\\t{}\n",
    ":chart_with_upwards_trend: High Price:\\t\\t{}\n",
    ":chart_with_downwards_trend: Low Price:\\t\\t{}\n",
    ":lock: Close Price:\\t\\t{}\n",
    "\"\"\"\n",
    "\n",
    "UP_TEMPLATE = \"\"\":heavy_exclamation_mark: :heavy_exclamation_mark: :heavy_exclamation_mark: Heavy Swing Alert :heavy_exclamation_mark: :heavy_exclamation_mark: :heavy_exclamation_mark:\n",
    "{} UP :arrow_upper_right: :arrow_upper_right: :arrow_upper_right:\n",
    "BY {}% :ox:\n",
    ":unlock: Open Price:\\t\\t{}\n",
    ":lock: Close Price:\\t\\t{}\n",
    ":chart_with_upwards_trend: Price Difference:\\t{}\n",
    "\"\"\"\n",
    "\n",
    "DOWN_TEMPLATE = \"\"\":heavy_exclamation_mark: :heavy_exclamation_mark: :heavy_exclamation_mark: Heavy Swing Alert :heavy_exclamation_mark: :heavy_exclamation_mark: :heavy_exclamation_mark:\n",
    "{} DOWN :arrow_lower_right: :arrow_lower_right: :arrow_lower_right:\n",
    "BY {}% :bear:\n",
    ":unlock: Open Price:\\t\\t{}\n",
    ":lock: Close Price:\\t\\t{}\n",
    ":chart_with_downwards_trend: Price Difference:\\t{}\n",
    "\"\"\""
   ]
  },
  {
   "cell_type": "code",
   "execution_count": 4,
   "metadata": {},
   "outputs": [],
   "source": [
    "def help(update, context):\n",
    "    coins = ', '.join(COINS)\n",
    "    update.message.reply_text('Coins available: {}\\nUse \\check to check status of coin.')\n",
    "\n",
    "def check(update, context):\n",
    "    try:\n",
    "        coin = context.args[0].upper()\n",
    "        if coin in COINS:\n",
    "            get_coin_price(update, context, coin)\n",
    "        else:\n",
    "            update.message.reply_text(text='Please provide a valid coin.')\n",
    "    except:\n",
    "        update.message.reply_text(text='Error encountered. Please provide a valid coin.')\n",
    "\n",
    "def period_price_check(context):\n",
    "    client = Client(BINANCE_API_KEY, BINANCE_SECRET_KEY)\n",
    "    for coin in COINS:\n",
    "        text = get_price_change(coin, client)\n",
    "        if len(text) > 0:\n",
    "            context.bot.send_message(chat_id=TELEGRAM_CHAT_ID, text=emoji.emojize(text, use_aliases=True))\n",
    "\n",
    "def get_coin_price(update, context, coin):\n",
    "    client = Client(BINANCE_API_KEY, BINANCE_SECRET_KEY)\n",
    "    symbol = coin + BRIDGE\n",
    "    avg_price = client.get_avg_price(symbol=symbol)['price']\n",
    "    t = client.get_ticker(symbol=symbol)\n",
    "    text = TEXT_TEMPLATE.format(coin, BRIDGE, t['lastPrice'], avg_price, t['weightedAvgPrice'], t['priceChange'], \n",
    "                                t['priceChangePercent'], t['openPrice'], t['highPrice'], t['lowPrice'],\n",
    "                                t['prevClosePrice'])\n",
    "    update.message.reply_text(text=emoji.emojize(text, use_aliases=True))\n",
    "\n",
    "def get_price_change(coin, client):\n",
    "    symbol = coin + BRIDGE\n",
    "    kline = client.get_klines(symbol=symbol, interval=Client.KLINE_INTERVAL_15MINUTE, limit=1)[0]\n",
    "    open_price = float(kline[1])\n",
    "    close_price = float(kline[4])\n",
    "    price_diff = close_price - open_price\n",
    "    price_diff_percent = price_diff / open_price * 100\n",
    "    if abs(price_diff_percent) >= 5:\n",
    "        if price_diff_percent > 0:\n",
    "            return UP_TEMPLATE.format(coin, price_diff_percent, open_price, close_price, price_diff)\n",
    "        else:\n",
    "            return DOWN_TEMPALTE.format(coin, abs(price_diff_percent), open_price, close_price, price_diff)\n",
    "    else:\n",
    "        return ''\n",
    "\n",
    "def main():\n",
    "    updater = Updater(token=TELEGRAM_TOKEN)\n",
    "    # Bot commands\n",
    "    dp = updater.dispatcher\n",
    "    dp.add_handler(CommandHandler('help', help))\n",
    "    dp.add_handler(CommandHandler('check', check))\n",
    "    # Job queue\n",
    "    job_queue = updater.job_queue\n",
    "    job_queue.run_repeating(period_price_check, interval=480, first=20) # Run every 8 minutes\n",
    "    updater.start_polling()\n",
    "    updater.idle()"
   ]
  },
  {
   "cell_type": "code",
   "execution_count": 5,
   "metadata": {},
   "outputs": [
    {
     "ename": "NameError",
     "evalue": "name 'btc' is not defined",
     "output_type": "error",
     "traceback": [
      "\u001b[0;31m---------------------------------------------------------------------------\u001b[0m",
      "\u001b[0;31mNameError\u001b[0m                                 Traceback (most recent call last)",
      "\u001b[0;32m<ipython-input-5-263240bbee7e>\u001b[0m in \u001b[0;36m<module>\u001b[0;34m\u001b[0m\n\u001b[0;32m----> 1\u001b[0;31m \u001b[0mmain\u001b[0m\u001b[0;34m(\u001b[0m\u001b[0;34m)\u001b[0m\u001b[0;34m\u001b[0m\u001b[0;34m\u001b[0m\u001b[0m\n\u001b[0m",
      "\u001b[0;32m<ipython-input-4-0088652c8e83>\u001b[0m in \u001b[0;36mmain\u001b[0;34m()\u001b[0m\n\u001b[1;32m     50\u001b[0m     \u001b[0mdp\u001b[0m \u001b[0;34m=\u001b[0m \u001b[0mupdater\u001b[0m\u001b[0;34m.\u001b[0m\u001b[0mdispatcher\u001b[0m\u001b[0;34m\u001b[0m\u001b[0;34m\u001b[0m\u001b[0m\n\u001b[1;32m     51\u001b[0m     \u001b[0mdp\u001b[0m\u001b[0;34m.\u001b[0m\u001b[0madd_handler\u001b[0m\u001b[0;34m(\u001b[0m\u001b[0mCommandHandler\u001b[0m\u001b[0;34m(\u001b[0m\u001b[0;34m'help'\u001b[0m\u001b[0;34m,\u001b[0m \u001b[0mhelp\u001b[0m\u001b[0;34m)\u001b[0m\u001b[0;34m)\u001b[0m\u001b[0;34m\u001b[0m\u001b[0;34m\u001b[0m\u001b[0m\n\u001b[0;32m---> 52\u001b[0;31m     \u001b[0mdp\u001b[0m\u001b[0;34m.\u001b[0m\u001b[0madd_handler\u001b[0m\u001b[0;34m(\u001b[0m\u001b[0mCommandHandler\u001b[0m\u001b[0;34m(\u001b[0m\u001b[0;34m'btc'\u001b[0m\u001b[0;34m,\u001b[0m \u001b[0mbtc\u001b[0m\u001b[0;34m)\u001b[0m\u001b[0;34m)\u001b[0m\u001b[0;34m\u001b[0m\u001b[0;34m\u001b[0m\u001b[0m\n\u001b[0m\u001b[1;32m     53\u001b[0m     \u001b[0mdp\u001b[0m\u001b[0;34m.\u001b[0m\u001b[0madd_handler\u001b[0m\u001b[0;34m(\u001b[0m\u001b[0mCommandHandler\u001b[0m\u001b[0;34m(\u001b[0m\u001b[0;34m'eth'\u001b[0m\u001b[0;34m,\u001b[0m \u001b[0meth\u001b[0m\u001b[0;34m)\u001b[0m\u001b[0;34m)\u001b[0m\u001b[0;34m\u001b[0m\u001b[0;34m\u001b[0m\u001b[0m\n\u001b[1;32m     54\u001b[0m     \u001b[0mdp\u001b[0m\u001b[0;34m.\u001b[0m\u001b[0madd_handler\u001b[0m\u001b[0;34m(\u001b[0m\u001b[0mCommandHandler\u001b[0m\u001b[0;34m(\u001b[0m\u001b[0;34m'ltc'\u001b[0m\u001b[0;34m,\u001b[0m \u001b[0mltc\u001b[0m\u001b[0;34m)\u001b[0m\u001b[0;34m)\u001b[0m\u001b[0;34m\u001b[0m\u001b[0;34m\u001b[0m\u001b[0m\n",
      "\u001b[0;31mNameError\u001b[0m: name 'btc' is not defined"
     ]
    }
   ],
   "source": [
    "main()"
   ]
  },
  {
   "cell_type": "code",
   "execution_count": null,
   "metadata": {},
   "outputs": [],
   "source": []
  }
 ],
 "metadata": {
  "kernelspec": {
   "display_name": "Python 3",
   "language": "python",
   "name": "python3"
  },
  "language_info": {
   "codemirror_mode": {
    "name": "ipython",
    "version": 3
   },
   "file_extension": ".py",
   "mimetype": "text/x-python",
   "name": "python",
   "nbconvert_exporter": "python",
   "pygments_lexer": "ipython3",
   "version": "3.8.5"
  }
 },
 "nbformat": 4,
 "nbformat_minor": 4
}
