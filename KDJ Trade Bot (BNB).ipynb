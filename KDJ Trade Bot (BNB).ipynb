{
 "cells": [
  {
   "cell_type": "code",
   "execution_count": 1,
   "metadata": {},
   "outputs": [],
   "source": [
    "import pandas as pd\n",
    "from datetime import datetime as dt\n",
    "from matplotlib import pyplot as plt\n",
    "from binance.client import Client\n",
    "from binance.exceptions import BinanceAPIException\n",
    "from misc import *\n",
    "from secrets import secrets"
   ]
  },
  {
   "cell_type": "code",
   "execution_count": 16,
   "metadata": {},
   "outputs": [],
   "source": [
    "BINANCE_API_KEY = secrets['BINANCE_API_KEY']\n",
    "BINANCE_SECRET_KEY = secrets['BINANCE_SECRET_KEY']\n",
    "BRIDGE = 'USDT'\n",
    "\n",
    "client = Client(BINANCE_API_KEY, BINANCE_SECRET_KEY)"
   ]
  },
  {
   "cell_type": "code",
   "execution_count": 20,
   "metadata": {},
   "outputs": [],
   "source": [
    "def stimulate_trade_bot(client, coin):\n",
    "    symbol = coin + BRIDGE\n",
    "    kline = client.get_klines(symbol=symbol, interval=Client.KLINE_INTERVAL_1HOUR)\n",
    "    # Initial\n",
    "    initial = 1000\n",
    "    usdt = 1000\n",
    "    coin = 0\n",
    "    bought = False\n",
    "    last_buy_price = 0\n",
    "    last_sell_price = 0\n",
    "    trans_fee = 0.001\n",
    "    # Split data\n",
    "    train, test = kline[:400], kline[-100:]\n",
    "    # Stimmy\n",
    "    for t in test:\n",
    "        data = train + [t]\n",
    "        k_value, d_value, j_value = get_kdj(data)\n",
    "        k = k_value[-1]\n",
    "        d = d_value[-1]\n",
    "        if not bought:\n",
    "            if d < k:\n",
    "                buy_price = float(t[1]) + float(t[4]) / 2\n",
    "                coin = (usdt / buy_price) * (1 - trans_fee)\n",
    "                usdt = 0\n",
    "                bought = True\n",
    "                print('Bought {} @ {}. Current networth: {}'.format(coin, buy_price, coin * buy_price))\n",
    "        else:\n",
    "            if d > k:\n",
    "                sell_price = float(t[1]) + float(t[4]) / 2\n",
    "                usdt = (coin * sell_price) * (1 - trans_fee)\n",
    "                bnb = 0\n",
    "                bought = False\n",
    "                print('Sold {} @ {}. Current networth: {}'.format(coin, sell_price, usdt))\n",
    "    # Summary\n",
    "    if usdt == 0:\n",
    "        usdt = coin * buy_price\n",
    "    return usdt, (usdt - initial) / initial * 100"
   ]
  },
  {
   "cell_type": "code",
   "execution_count": 21,
   "metadata": {},
   "outputs": [
    {
     "name": "stdout",
     "output_type": "stream",
     "text": [
      "Bought 0.013937074179833179 @ 71679.32. Current networth: 999.0\n",
      "Sold 0.013937074179833179 @ 71813.465. Current networth: 999.8687192270378\n",
      "Bought 0.013743939633587315 @ 72677.04000000001. Current networth: 998.8688505078107\n",
      "Sold 0.013743939633587315 @ 73352.1. Current networth: 1007.1386875624634\n",
      "Bought 0.013820937299335355 @ 72797.635. Current networth: 1006.1315488749009\n",
      "Sold 0.013820937299335355 @ 72596.685. Current networth: 1002.3508772930749\n",
      "Bought 0.013808111798996589 @ 72518.86. Current networth: 1001.3485264157817\n",
      "Sold 0.013808111798996589 @ 74273.07. Current networth: 1024.545283360485\n",
      "Bought 0.013824088733820501 @ 74038.93. Current networth: 1023.5207380771246\n",
      "Sold 0.013824088733820501 @ 73495.195. Current networth: 1014.9880930922515\n",
      "Bought 0.013891363165198982 @ 72993.06. Current networth: 1013.9731049991591\n",
      "Sold 0.013891363165198982 @ 72797.38500000001. Current networth: 1010.2436575992972\n",
      "Bought 0.013870595612431364 @ 72760.64. Current networth: 1009.233413941698\n",
      "Sold 0.013870595612431364 @ 73504.765. Current networth: 1018.5353160308968\n",
      "Bought 0.013911305585804522 @ 73143.155. Current networth: 1017.516780714866\n",
      "Sold 0.013911305585804522 @ 73449.655. Current networth: 1020.7588152810381\n",
      "Bought 0.013923745134186429 @ 73237.34. Current networth: 1019.738056465757\n",
      "Sold 0.013923745134186429 @ 72436.095. Current networth: 1007.5731435704203\n",
      "Bought 0.014088501101803676 @ 71445.895. Current networth: 1006.5655704268498\n",
      "Sold 0.014088501101803676 @ 71691.81999999999. Current networth: 1009.0202547752504\n",
      "Bought 0.014137171736328629 @ 71302.185. Current networth: 1008.0112345204751\n"
     ]
    },
    {
     "data": {
      "text/plain": [
       "(1008.0112345204751, 0.8011234520475113)"
      ]
     },
     "execution_count": 21,
     "metadata": {},
     "output_type": "execute_result"
    }
   ],
   "source": [
    "stimulate_trade_bot(client, 'BTC')"
   ]
  },
  {
   "cell_type": "code",
   "execution_count": 22,
   "metadata": {},
   "outputs": [
    {
     "name": "stdout",
     "output_type": "stream",
     "text": [
      "Bought 0.4445987262847301 @ 2246.9700000000003. Current networth: 999.0\n",
      "Sold 0.4445987262847301 @ 2261.535. Current networth: 1004.4701048678886\n",
      "Bought 0.45271202728682475 @ 2216.565. Current networth: 1003.4656347630207\n",
      "Sold 0.45271202728682475 @ 2323.18. Current networth: 1050.6797960246533\n",
      "Bought 0.45977682704470557 @ 2282.91. Current networth: 1049.6291162286286\n",
      "Sold 0.45977682704470557 @ 2280.77. Current networth: 1047.5965486249343\n",
      "Bought 0.46054380443593584 @ 2272.42. Current networth: 1046.5489520763094\n",
      "Sold 0.46054380443593584 @ 2352.165. Current networth: 1082.191742743292\n",
      "Bought 0.46038063829312276 @ 2348.295. Current networth: 1081.1095510005487\n",
      "Sold 0.46038063829312276 @ 2356.13. Current networth: 1083.631916668274\n",
      "Bought 0.46483444248187156 @ 2328.89. Current networth: 1082.5482847516057\n",
      "Sold 0.46483444248187156 @ 2356.835. Current networth: 1094.442545163515\n",
      "Bought 0.46629623738921055 @ 2344.75. Current networth: 1093.3481026183515\n",
      "Sold 0.46629623738921055 @ 2302.305. Current networth: 1072.482602663544\n",
      "Bought 0.47616746148381184 @ 2250.0699999999997. Current networth: 1071.4101200608804\n",
      "Sold 0.47616746148381184 @ 2253.125. Current networth: 1071.7919468440577\n",
      "Bought 0.4731764158222821 @ 2262.835. Current networth: 1070.7201548972137\n"
     ]
    },
    {
     "data": {
      "text/plain": [
       "(1070.7201548972137, 7.072015489721366)"
      ]
     },
     "execution_count": 22,
     "metadata": {},
     "output_type": "execute_result"
    }
   ],
   "source": [
    "stimulate_trade_bot(client, 'ETH')"
   ]
  },
  {
   "cell_type": "code",
   "execution_count": 23,
   "metadata": {},
   "outputs": [
    {
     "name": "stdout",
     "output_type": "stream",
     "text": [
      "Bought 2.855621737312814 @ 349.83625. Current networth: 999.0\n",
      "Sold 2.855621737312814 @ 373.5772. Current networth: 1065.7283777115722\n",
      "Bought 2.819345059435824 @ 377.62765. Current networth: 1064.6626493338606\n",
      "Sold 2.819345059435824 @ 381.11525. Current networth: 1073.4209017659857\n",
      "Bought 2.9255424198214928 @ 366.54655. Current networth: 1072.34748086422\n",
      "Sold 2.9255424198214928 @ 369.462. Current networth: 1079.7958767585762\n",
      "Bought 2.9053731118199617 @ 371.28315. Current networth: 1078.7160808818176\n",
      "Sold 2.9053731118199617 @ 382.83725. Current networth: 1111.1727673007433\n",
      "Bought 2.8924628802522783 @ 383.77729999999997. Current networth: 1110.0615945334425\n",
      "Sold 2.8924628802522783 @ 377.501. Current networth: 1090.815722128357\n",
      "Bought 2.910994721371464 @ 374.34794999999997. Current networth: 1089.7249064062287\n",
      "Sold 2.910994721371464 @ 375.41575. Current networth: 1091.7404333031395\n",
      "Bought 2.9380191907442152 @ 371.21905000000004. Current networth: 1090.6486928698364\n",
      "Sold 2.9380191907442152 @ 377.17165. Current networth: 1107.0294083587557\n",
      "Bought 2.9618008770877426 @ 373.39525000000003. Current networth: 1105.922378950397\n",
      "Sold 2.9618008770877426 @ 375.73455. Current networth: 1111.7380688224262\n",
      "Bought 3.136336562089587 @ 354.11580000000004. Current networth: 1110.626330753604\n",
      "Sold 3.136336562089587 @ 353.4706. Current networth: 1107.4941636373399\n",
      "Bought 3.1524014398923845 @ 350.9663. Current networth: 1106.3866694737026\n",
      "Sold 3.1524014398923845 @ 359.51515. Current networth: 1132.2027404466035\n",
      "Bought 3.1401969919181947 @ 360.19095. Current networth: 1131.0705377061568\n",
      "Sold 3.1401969919181947 @ 360.49765. Current networth: 1130.9016024874545\n",
      "Bought 3.137270678351624 @ 360.1126. Current networth: 1129.770700884967\n"
     ]
    },
    {
     "data": {
      "text/plain": [
       "(1129.770700884967, 12.977070088496703)"
      ]
     },
     "execution_count": 23,
     "metadata": {},
     "output_type": "execute_result"
    }
   ],
   "source": [
    "stimulate_trade_bot(client, 'BNB')"
   ]
  },
  {
   "cell_type": "code",
   "execution_count": 24,
   "metadata": {},
   "outputs": [
    {
     "name": "stdout",
     "output_type": "stream",
     "text": [
      "Bought 484.164102067027 @ 2.06335. Current networth: 999.0\n",
      "Sold 484.164102067027 @ 2.1300999999999997. Current networth: 1030.2866358591612\n",
      "Bought 476.42485643617516 @ 2.160375. Current networth: 1029.256349223302\n",
      "Sold 476.42485643617516 @ 2.16411. Current networth: 1030.004760266029\n",
      "Bought 511.47606243529367 @ 2.011775. Current networth: 1028.974755505763\n",
      "Sold 511.47606243529367 @ 2.0561249999999998. Current networth: 1050.6070601558934\n",
      "Bought 512.0212179037956 @ 2.04983. Current networth: 1049.5564530957372\n",
      "Sold 512.0212179037956 @ 2.125235. Current networth: 1087.0772476187412\n",
      "Bought 515.8485549797518 @ 2.10525. Current networth: 1085.9901703711225\n",
      "Sold 515.8485549797518 @ 2.074685. Current networth: 1069.1530360288782\n"
     ]
    },
    {
     "data": {
      "text/plain": [
       "(1069.1530360288782, 6.91530360288782)"
      ]
     },
     "execution_count": 24,
     "metadata": {},
     "output_type": "execute_result"
    }
   ],
   "source": [
    "stimulate_trade_bot(client, 'ADA')"
   ]
  },
  {
   "cell_type": "code",
   "execution_count": 25,
   "metadata": {},
   "outputs": [
    {
     "name": "stdout",
     "output_type": "stream",
     "text": [
      "Bought 1200.5768537435404 @ 0.8321000000000001. Current networth: 999.0\n",
      "Sold 1200.5768537435404 @ 0.8717999999999999. Current networth: 1045.6162381925246\n",
      "Bought 1196.255865728736 @ 0.8732. Current networth: 1044.5706219543322\n",
      "Sold 1196.255865728736 @ 0.8785000000000001. Current networth: 1049.859867264652\n",
      "Bought 1215.87063227149 @ 0.8626. Current networth: 1048.8100073973874\n",
      "Sold 1215.87063227149 @ 0.8741000000000001. Current networth: 1061.729727148841\n",
      "Bought 1240.765043483292 @ 0.85485. Current networth: 1060.667997421692\n",
      "Sold 1240.765043483292 @ 0.85105. Current networth: 1054.8971371661992\n",
      "Bought 1253.3058690955972 @ 0.8408500000000001. Current networth: 1053.842240029033\n",
      "Sold 1253.3058690955972 @ 0.8729. Current networth: 1092.9166824404133\n",
      "Bought 1249.297746733764 @ 0.87395. Current networth: 1091.823765757973\n",
      "Sold 1249.297746733764 @ 0.92615. Current networth: 1155.880071029338\n",
      "Bought 1261.6489384958304 @ 0.91525. Current networth: 1154.7241909583088\n",
      "Sold 1261.6489384958304 @ 0.8995. Current networth: 1133.7183669568224\n",
      "Bought 1289.2255533180028 @ 0.8785000000000001. Current networth: 1132.5846485898655\n",
      "Sold 1289.2255533180028 @ 0.8711. Current networth: 1121.9213351158169\n",
      "Bought 1306.6737555006716 @ 0.85775. Current networth: 1120.7994137807011\n",
      "Sold 1306.6737555006716 @ 1.02025. Current networth: 1331.8007651505109\n",
      "Bought 1327.614593010388 @ 1.00215. Current networth: 1330.4689643853606\n",
      "Sold 1327.614593010388 @ 1.0049000000000001. Current networth: 1332.7857846116228\n",
      "Bought 1332.3856687951677 @ 0.9993. Current networth: 1331.452998827011\n"
     ]
    },
    {
     "data": {
      "text/plain": [
       "(1331.452998827011, 33.1452998827011)"
      ]
     },
     "execution_count": 25,
     "metadata": {},
     "output_type": "execute_result"
    }
   ],
   "source": [
    "stimulate_trade_bot(client, 'BAT')"
   ]
  },
  {
   "cell_type": "code",
   "execution_count": 26,
   "metadata": {},
   "outputs": [
    {
     "name": "stdout",
     "output_type": "stream",
     "text": [
      "Bought 1437.0585612152422 @ 0.6951700000000001. Current networth: 999.0\n",
      "Sold 1437.0585612152422 @ 0.705465. Current networth: 1012.7807233698231\n",
      "Bought 1419.8059845447767 @ 0.71261. Current networth: 1011.7679426464533\n",
      "Sold 1419.8059845447767 @ 0.717225. Current networth: 1017.3020269178623\n",
      "Bought 1451.399901302387 @ 0.70021. Current networth: 1016.2847248909444\n",
      "Sold 1451.399901302387 @ 0.69496. Current networth: 1007.6562105336978\n",
      "Bought 1443.6790877741569 @ 0.69728. Current networth: 1006.6485543231641\n",
      "Sold 1443.6790877741569 @ 0.72111. Current networth: 1040.0103755578375\n",
      "Bought 1448.4359723998575 @ 0.717305. Current networth: 1038.9703651822797\n",
      "Sold 1448.4359723998575 @ 0.7092799999999999. Current networth: 1026.3193198372671\n",
      "Bought 1472.7941342336549 @ 0.696155. Current networth: 1025.2930005174298\n",
      "Sold 1472.7941342336549 @ 0.720505. Current networth: 1060.0943821483334\n",
      "Bought 1648.3408760767725 @ 0.642485. Current networth: 1059.0342877661851\n",
      "Sold 1648.3408760767725 @ 0.66283. Current networth: 1091.4772131070772\n",
      "Bought 1768.0401736508793 @ 0.6167199999999999. Current networth: 1090.3857358939701\n",
      "Sold 1768.0401736508793 @ 0.617815. Current networth: 1091.229418144234\n",
      "Bought 1799.4572414451436 @ 0.605815. Current networth: 1090.1381887260898\n",
      "Sold 1799.4572414451436 @ 0.62083. Current networth: 1116.039882167182\n",
      "Bought 1717.8971537738767 @ 0.6490049999999999. Current networth: 1114.9238422850146\n",
      "Sold 1717.8971537738767 @ 0.698835. Current networth: 1199.3261308001095\n",
      "Bought 1710.8642729515132 @ 0.700305. Current networth: 1198.1268046693094\n"
     ]
    },
    {
     "data": {
      "text/plain": [
       "(1198.1268046693094, 19.812680466930942)"
      ]
     },
     "execution_count": 26,
     "metadata": {},
     "output_type": "execute_result"
    }
   ],
   "source": [
    "stimulate_trade_bot(client, 'FTM')"
   ]
  },
  {
   "cell_type": "code",
   "execution_count": null,
   "metadata": {},
   "outputs": [],
   "source": []
  }
 ],
 "metadata": {
  "kernelspec": {
   "display_name": "Python 3",
   "language": "python",
   "name": "python3"
  },
  "language_info": {
   "codemirror_mode": {
    "name": "ipython",
    "version": 3
   },
   "file_extension": ".py",
   "mimetype": "text/x-python",
   "name": "python",
   "nbconvert_exporter": "python",
   "pygments_lexer": "ipython3",
   "version": "3.8.5"
  }
 },
 "nbformat": 4,
 "nbformat_minor": 4
}
