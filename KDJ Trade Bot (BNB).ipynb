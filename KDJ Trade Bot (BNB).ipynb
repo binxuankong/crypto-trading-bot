{
 "cells": [
  {
   "cell_type": "code",
   "execution_count": 1,
   "metadata": {},
   "outputs": [],
   "source": [
    "import pandas as pd\n",
    "from datetime import datetime as dt\n",
    "from matplotlib import pyplot as plt\n",
    "from binance.client import Client\n",
    "from binance.exceptions import BinanceAPIException\n",
    "from misc import *\n",
    "from secrets import secrets"
   ]
  },
  {
   "cell_type": "code",
   "execution_count": 17,
   "metadata": {},
   "outputs": [],
   "source": [
    "BINANCE_API_KEY = secrets['BINANCE_API_KEY']\n",
    "BINANCE_SECRET_KEY = secrets['BINANCE_SECRET_KEY']\n",
    "BRIDGE = 'USDT'\n",
    "\n",
    "client = Client(BINANCE_API_KEY, BINANCE_SECRET_KEY)"
   ]
  },
  {
   "cell_type": "code",
   "execution_count": 14,
   "metadata": {},
   "outputs": [],
   "source": [
    "def stimulate_trade_bot1(client, coin, limit=0.01, display=True):\n",
    "    symbol = coin + BRIDGE\n",
    "    kline = client.get_klines(symbol=symbol, interval=Client.KLINE_INTERVAL_30MINUTE)\n",
    "    # Initial\n",
    "    initial = 1000\n",
    "    usdt = 1000\n",
    "    coin = 0\n",
    "    bought = False\n",
    "    last_buy_price = 0\n",
    "    last_sell_price = 0\n",
    "    trans_fee = 0.001\n",
    "    # Split data\n",
    "    train, test = kline[:400], kline[-100:]\n",
    "    # Stimmy\n",
    "    for t in test:\n",
    "        data = train + [t]\n",
    "        k, d, j = get_kdj1(data)\n",
    "        if not bought:\n",
    "            if d - k < limit:\n",
    "                buy_price = (float(t[1]) + float(t[4])) / 2\n",
    "                coin = (usdt / buy_price) * (1 - trans_fee)\n",
    "                usdt = 0\n",
    "                bought = True\n",
    "                if display:\n",
    "                    print('Bought {} @ {}. Current networth: {}'.format(coin, buy_price, coin * buy_price))\n",
    "        else:\n",
    "            if d - k > limit:\n",
    "                sell_price = (float(t[1]) + float(t[4])) / 2\n",
    "                usdt = (coin * sell_price) * (1 - trans_fee)\n",
    "                bnb = 0\n",
    "                bought = False\n",
    "                if display:\n",
    "                    print('Sold {} @ {}. Current networth: {}'.format(coin, sell_price, usdt))\n",
    "    # Summary\n",
    "    if usdt == 0:\n",
    "        usdt = coin * buy_price\n",
    "    return usdt, (usdt - initial) / initial * 100\n",
    "\n",
    "def stimulate_trade_bot2(client, coin, limit, k_periods, d_periods):\n",
    "    symbol = coin + BRIDGE\n",
    "    kline = client.get_klines(symbol=symbol, interval=Client.KLINE_INTERVAL_30MINUTE)\n",
    "    # Initial\n",
    "    initial = 1000\n",
    "    usdt = 1000\n",
    "    coin = 0\n",
    "    bought = False\n",
    "    last_buy_price = 0\n",
    "    last_sell_price = 0\n",
    "    trans_fee = 0.001\n",
    "    # Split data\n",
    "    train, test = kline[:400], kline[-100:]\n",
    "    # Stimmy\n",
    "    for t in test:\n",
    "        data = train + [t]\n",
    "        k_value, d_value, j_value = get_kdj2(data, k_periods=k_periods, d_periods=d_periods)\n",
    "        k = k_value[-1]\n",
    "        d = d_value[-1]\n",
    "        j = j_value[-1]\n",
    "        if not bought:\n",
    "            if d - k < limit:\n",
    "                buy_price = (float(t[1]) + float(t[4])) / 2\n",
    "                coin = (usdt / buy_price) * (1 - trans_fee)\n",
    "                usdt = 0\n",
    "                bought = True\n",
    "                # print('Bought {} @ {}. Current networth: {}'.format(coin, buy_price, coin * buy_price))\n",
    "        else:\n",
    "            if d - k > limit:\n",
    "                sell_price = (float(t[1]) + float(t[4])) / 2\n",
    "                usdt = (coin * sell_price) * (1 - trans_fee)\n",
    "                bnb = 0\n",
    "                bought = False\n",
    "                # print('Sold {} @ {}. Current networth: {}'.format(coin, sell_price, usdt))\n",
    "    # Summary\n",
    "    if usdt == 0:\n",
    "        usdt = coin * buy_price\n",
    "    return usdt, (usdt - initial) / initial * 100"
   ]
  },
  {
   "cell_type": "code",
   "execution_count": 19,
   "metadata": {},
   "outputs": [
    {
     "name": "stdout",
     "output_type": "stream",
     "text": [
      "Bought 0.019898751408125484 @ 50204.155. Current networth: 999.0\n",
      "Sold 0.019898751408125484 @ 50863.35. Current networth: 1011.1050402770448\n",
      "Bought 0.019932361288338953 @ 50676.08. Current networth: 1010.0939352367678\n",
      "Sold 0.019932361288338953 @ 50551.17. Current networth: 1006.5965798042531\n"
     ]
    },
    {
     "data": {
      "text/plain": [
       "(1006.5965798042531, 0.659657980425311)"
      ]
     },
     "execution_count": 19,
     "metadata": {},
     "output_type": "execute_result"
    }
   ],
   "source": [
    "stimulate_trade_bot1(client, 'BTC')"
   ]
  },
  {
   "cell_type": "code",
   "execution_count": 20,
   "metadata": {},
   "outputs": [
    {
     "name": "stdout",
     "output_type": "stream",
     "text": [
      "Bought 0.6320784561847517 @ 1580.5. Current networth: 999.0\n",
      "Sold 0.6320784561847517 @ 1578.28. Current networth: 996.5991890414426\n",
      "Bought 0.630577208361904 @ 1578.875. Current networth: 995.6025898524011\n",
      "Sold 0.630577208361904 @ 1635.96. Current networth: 1030.5674907019486\n",
      "Bought 0.6365224819537335 @ 1617.44. Current networth: 1029.5369232112469\n",
      "Sold 0.6365224819537335 @ 1601.94. Current networth: 1018.6511539162229\n",
      "Bought 0.6398313094634333 @ 1590.47. Current networth: 1017.6325027623067\n",
      "Sold 0.6398313094634333 @ 1606.135. Current networth: 1026.6278047648264\n",
      "Bought 0.6412452103364792 @ 1599.3899999999999. Current networth: 1025.6011769600614\n",
      "Sold 0.6412452103364792 @ 1599.1100000000001. Current networth: 1024.3962066728661\n",
      "Bought 0.6463883998485318 @ 1583.2150000000001. Current networth: 1023.3718104661933\n",
      "Sold 0.6463883998485318 @ 1591.58. Current networth: 1027.7500705814953\n",
      "Bought 0.6451023492668624 @ 1591.565. Current networth: 1026.722320510914\n",
      "Sold 0.6451023492668624 @ 1583.26. Current networth: 1020.3433807547523\n",
      "Bought 0.6418769343081213 @ 1588.035. Current networth: 1019.3230373739975\n",
      "Sold 0.6418769343081213 @ 1607.13. Current networth: 1030.5480977571765\n"
     ]
    },
    {
     "data": {
      "text/plain": [
       "(1030.5480977571765, 3.0548097757176493)"
      ]
     },
     "execution_count": 20,
     "metadata": {},
     "output_type": "execute_result"
    }
   ],
   "source": [
    "stimulate_trade_bot1(client, 'ETH')"
   ]
  },
  {
   "cell_type": "code",
   "execution_count": 21,
   "metadata": {},
   "outputs": [
    {
     "data": {
      "text/plain": [
       "(1000, 0.0)"
      ]
     },
     "execution_count": 21,
     "metadata": {},
     "output_type": "execute_result"
    }
   ],
   "source": [
    "stimulate_trade_bot1(client, 'BNB')"
   ]
  },
  {
   "cell_type": "code",
   "execution_count": 22,
   "metadata": {},
   "outputs": [
    {
     "name": "stdout",
     "output_type": "stream",
     "text": [
      "Bought 821.2016341830318 @ 1.21651. Current networth: 999.0\n",
      "Sold 821.2016341830318 @ 1.223945. Current networth: 1004.1005285160008\n",
      "Bought 817.1665278954362 @ 1.22753. Current networth: 1003.0964279874847\n",
      "Sold 817.1665278954362 @ 1.23079. Current networth: 1004.7546304775555\n",
      "Bought 816.8470925912693 @ 1.2288100000000002. Current networth: 1003.7498758470778\n",
      "Sold 816.8470925912693 @ 1.22737. Current networth: 1001.5710424177125\n",
      "Bought 813.1174419055897 @ 1.2305350000000002. Current networth: 1000.5694713752949\n",
      "Sold 813.1174419055897 @ 1.227565. Current networth: 997.1563580602624\n",
      "Bought 813.6793926986414 @ 1.224265. Current networth: 996.1592017022022\n",
      "Sold 813.6793926986414 @ 1.2287. Current networth: 998.7681019390119\n",
      "Bought 814.4789834103972 @ 1.22504. Current networth: 997.7693338370728\n",
      "Sold 814.4789834103972 @ 1.23475. Current networth: 1004.6722468412219\n",
      "Bought 818.1116673277693 @ 1.22681. Current networth: 1003.6675745943807\n",
      "Sold 818.1116673277693 @ 1.22949. Current networth: 1004.8542537489562\n",
      "Bought 815.9353977226845 @ 1.230305. Current networth: 1003.8493994952073\n",
      "Sold 815.9353977226845 @ 1.22671. Current networth: 999.9151956286538\n",
      "Bought 814.0753922464968 @ 1.227055. Current networth: 998.9152804330251\n",
      "Sold 814.0753922464968 @ 1.221835. Current networth: 993.671141078613\n"
     ]
    },
    {
     "data": {
      "text/plain": [
       "(993.671141078613, -0.6328858921386995)"
      ]
     },
     "execution_count": 22,
     "metadata": {},
     "output_type": "execute_result"
    }
   ],
   "source": [
    "stimulate_trade_bot1(client, 'ADA')"
   ]
  },
  {
   "cell_type": "code",
   "execution_count": 23,
   "metadata": {},
   "outputs": [
    {
     "name": "stdout",
     "output_type": "stream",
     "text": [
      "Bought 1752.1704814522493 @ 0.57015. Current networth: 999.0\n",
      "Sold 1752.1704814522493 @ 0.58075. Current networth: 1016.5554340962905\n",
      "Bought 1744.4625588975252 @ 0.58215. Current networth: 1015.5388786621942\n",
      "Sold 1744.4625588975252 @ 0.6034999999999999. Current networth: 1051.7303711403615\n",
      "Bought 1789.9125055693717 @ 0.587. Current networth: 1050.6786407692211\n",
      "Sold 1789.9125055693717 @ 0.57955. Current networth: 1036.3064488101265\n",
      "Bought 1790.1956464833413 @ 0.5783. Current networth: 1035.2701423613164\n",
      "Sold 1790.1956464833413 @ 0.5775. Current networth: 1032.8041478582854\n",
      "Bought 1778.3029019483404 @ 0.5802. Current networth: 1031.7713437104271\n"
     ]
    },
    {
     "data": {
      "text/plain": [
       "(1031.7713437104271, 3.1771343710427122)"
      ]
     },
     "execution_count": 23,
     "metadata": {},
     "output_type": "execute_result"
    }
   ],
   "source": [
    "stimulate_trade_bot1(client, 'BAT')"
   ]
  },
  {
   "cell_type": "code",
   "execution_count": 10,
   "metadata": {},
   "outputs": [
    {
     "name": "stdout",
     "output_type": "stream",
     "text": [
      "Bought 1784.7412661122478 @ 0.5597449999999999. Current networth: 999.0\n",
      "Sold 1784.7412661122478 @ 0.56409. Current networth: 1005.7479461004566\n"
     ]
    },
    {
     "data": {
      "text/plain": [
       "(1005.7479461004566, 0.5747946100456601)"
      ]
     },
     "execution_count": 10,
     "metadata": {},
     "output_type": "execute_result"
    }
   ],
   "source": [
    "stimulate_trade_bot1(client, 'FTM')"
   ]
  },
  {
   "cell_type": "code",
   "execution_count": 18,
   "metadata": {},
   "outputs": [
    {
     "data": {
      "text/html": [
       "<div>\n",
       "<style scoped>\n",
       "    .dataframe tbody tr th:only-of-type {\n",
       "        vertical-align: middle;\n",
       "    }\n",
       "\n",
       "    .dataframe tbody tr th {\n",
       "        vertical-align: top;\n",
       "    }\n",
       "\n",
       "    .dataframe thead th {\n",
       "        text-align: right;\n",
       "    }\n",
       "</style>\n",
       "<table border=\"1\" class=\"dataframe\">\n",
       "  <thead>\n",
       "    <tr style=\"text-align: right;\">\n",
       "      <th></th>\n",
       "      <th>limit</th>\n",
       "      <th>total</th>\n",
       "      <th>growth</th>\n",
       "    </tr>\n",
       "  </thead>\n",
       "  <tbody>\n",
       "    <tr>\n",
       "      <th>4</th>\n",
       "      <td>0.50</td>\n",
       "      <td>4021.910686</td>\n",
       "      <td>100.547767</td>\n",
       "    </tr>\n",
       "    <tr>\n",
       "      <th>3</th>\n",
       "      <td>0.10</td>\n",
       "      <td>4015.820840</td>\n",
       "      <td>100.395521</td>\n",
       "    </tr>\n",
       "    <tr>\n",
       "      <th>0</th>\n",
       "      <td>0.00</td>\n",
       "      <td>4013.170512</td>\n",
       "      <td>100.329263</td>\n",
       "    </tr>\n",
       "    <tr>\n",
       "      <th>1</th>\n",
       "      <td>0.01</td>\n",
       "      <td>4013.170512</td>\n",
       "      <td>100.329263</td>\n",
       "    </tr>\n",
       "    <tr>\n",
       "      <th>2</th>\n",
       "      <td>0.05</td>\n",
       "      <td>4013.170512</td>\n",
       "      <td>100.329263</td>\n",
       "    </tr>\n",
       "  </tbody>\n",
       "</table>\n",
       "</div>"
      ],
      "text/plain": [
       "   limit        total      growth\n",
       "4   0.50  4021.910686  100.547767\n",
       "3   0.10  4015.820840  100.395521\n",
       "0   0.00  4013.170512  100.329263\n",
       "1   0.01  4013.170512  100.329263\n",
       "2   0.05  4013.170512  100.329263"
      ]
     },
     "execution_count": 18,
     "metadata": {},
     "output_type": "execute_result"
    }
   ],
   "source": [
    "coins = ['ADA', 'BNB', 'BAT', 'FTM']\n",
    "limits = [0, 0.01, 0.05, 0.1, 0.5]\n",
    "dict_list = []\n",
    "\n",
    "for limit in limits:\n",
    "    initial = 1000 * len(coins)\n",
    "    total_net = 0\n",
    "    for coin in coins:\n",
    "        net, growth = stimulate_trade_bot1(client, coin, limit, display=False)\n",
    "        total_net += net\n",
    "    dict_list.append({'limit': limit, 'total': total_net, 'growth': total_net / initial * 100})\n",
    "\n",
    "df = pd.DataFrame.from_dict(dict_list)\n",
    "df = df.sort_values(by='growth', ascending=False)\n",
    "df"
   ]
  },
  {
   "cell_type": "code",
   "execution_count": null,
   "metadata": {},
   "outputs": [],
   "source": [
    "kdj_pairs = [(5, 3), (9, 3), (14, 3), (9, 5), (14, 5), (21, 5), (21, 7), (21, 14)]\n",
    "coins = ['ADA', 'BNB', 'BAT', 'FTM']\n",
    "limits = [0, 0.01, 0.05, 0.1, 0.5]\n",
    "dict_list = []\n",
    "\n",
    "for p in kdj_pairs:\n",
    "    for limit in limits:\n",
    "        initial = 1000 * len(coins)\n",
    "        total_net = 0\n",
    "        for coin in coins:\n",
    "            net, growth = stimulate_trade_bot2(client, coin, limit, p[0], p[1])\n",
    "            total_net += net\n",
    "        dict_list.append({'pair': p, 'limit': limit, 'growth': total_net / initial * 100})"
   ]
  },
  {
   "cell_type": "code",
   "execution_count": null,
   "metadata": {},
   "outputs": [],
   "source": [
    "df = pd.DataFrame.from_dict(dict_list)\n",
    "df = df.sort_values(by='growth', ascending=False)\n",
    "df.head()"
   ]
  },
  {
   "cell_type": "code",
   "execution_count": null,
   "metadata": {},
   "outputs": [],
   "source": [
    "df"
   ]
  },
  {
   "cell_type": "code",
   "execution_count": null,
   "metadata": {},
   "outputs": [],
   "source": []
  }
 ],
 "metadata": {
  "kernelspec": {
   "display_name": "Python 3",
   "language": "python",
   "name": "python3"
  },
  "language_info": {
   "codemirror_mode": {
    "name": "ipython",
    "version": 3
   },
   "file_extension": ".py",
   "mimetype": "text/x-python",
   "name": "python",
   "nbconvert_exporter": "python",
   "pygments_lexer": "ipython3",
   "version": "3.8.5"
  }
 },
 "nbformat": 4,
 "nbformat_minor": 4
}
