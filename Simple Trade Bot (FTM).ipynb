{
 "cells": [
  {
   "cell_type": "code",
   "execution_count": 1,
   "metadata": {},
   "outputs": [],
   "source": [
    "from datetime import datetime as dt\n",
    "from time import sleep\n",
    "from binance.client import Client\n",
    "from binance.exceptions import BinanceAPIException, BinanceOrderException\n",
    "from binance.websockets import BinanceSocketManager\n",
    "from twisted.internet import reactor\n",
    "from secrets import secrets"
   ]
  },
  {
   "cell_type": "code",
   "execution_count": 2,
   "metadata": {},
   "outputs": [],
   "source": [
    "BINANCE_API_KEY = secrets['BINANCE_API_KEY']\n",
    "BINANCE_SECRET_KEY = secrets['BINANCE_SECRET_KEY']\n",
    "price = {'FTMUSDT': 0, 'error': False}\n",
    "portfolio = {'Initial': 600, 'USDT': 600, 'FTM': 0, 'BuyPrice': 0, 'SellPrice': 0, 'TransTime': dt.now(),\n",
    "             'TransFee': 0.001, 'TradeLimit': 0.0015}"
   ]
  },
  {
   "cell_type": "code",
   "execution_count": 3,
   "metadata": {},
   "outputs": [],
   "source": [
    "def ftm_pairs_trade(msg):\n",
    "    if msg['e'] != 'error':\n",
    "        price['FTMUSDT'] = float(msg['c'])\n",
    "    else:\n",
    "        price['error'] = True\n",
    "\n",
    "def buy_ftm(price):\n",
    "    portfolio['FTM'] = portfolio['USDT'] / price * (1 - portfolio['TransFee'])\n",
    "    portfolio['USDT'] = 0\n",
    "    portfolio['BuyPrice'] = price\n",
    "    portfolio['TransTime'] = dt.now()\n",
    "    print('{}\\tBUY @ {}, FTM: {}, USDT: {}'.format(dt.now(), price, portfolio['FTM'], portfolio['USDT']))\n",
    "\n",
    "def sell_ftm(price):\n",
    "    portfolio['USDT'] = portfolio['FTM'] * price * (1 - portfolio['TransFee'])\n",
    "    portfolio['FTM'] = 0\n",
    "    portfolio['SellPrice'] = price\n",
    "    portfolio['TransTime'] = dt.now()\n",
    "    print('{}\\tSELL @ {}, FTM: {}, USDT: {}'.format(dt.now(), price, portfolio['FTM'], portfolio['USDT']))\n",
    "    \n",
    "def percent_diff(curr, prev):\n",
    "    return (curr - prev) / prev"
   ]
  },
  {
   "cell_type": "code",
   "execution_count": 4,
   "metadata": {},
   "outputs": [],
   "source": [
    "client = Client(BINANCE_API_KEY, BINANCE_SECRET_KEY)\n",
    "bsm = BinanceSocketManager(client)\n",
    "conn_key = bsm.start_symbol_ticker_socket('FTMUSDT', ftm_pairs_trade)\n",
    "bsm.start()"
   ]
  },
  {
   "cell_type": "code",
   "execution_count": 5,
   "metadata": {},
   "outputs": [
    {
     "name": "stdout",
     "output_type": "stream",
     "text": [
      "2021-02-28 00:16:59.024783\tBUY @ 0.47366, FTM: 1265.4646793058312, USDT: 0\n",
      "2021-02-28 00:17:00.531994\tSELL @ 0.47448, FTM: 0, USDT: 599.8372433559937\n",
      "2021-02-28 00:17:05.374257\tBUY @ 0.4735, FTM: 1265.5489041449582, USDT: 0\n"
     ]
    },
    {
     "ename": "KeyboardInterrupt",
     "evalue": "",
     "output_type": "error",
     "traceback": [
      "\u001b[0;31m---------------------------------------------------------------------------\u001b[0m",
      "\u001b[0;31mKeyboardInterrupt\u001b[0m                         Traceback (most recent call last)",
      "\u001b[0;32m<ipython-input-5-bcddc285ac0b>\u001b[0m in \u001b[0;36m<module>\u001b[0;34m\u001b[0m\n\u001b[1;32m      9\u001b[0m     \u001b[0;32melse\u001b[0m\u001b[0;34m:\u001b[0m\u001b[0;34m\u001b[0m\u001b[0;34m\u001b[0m\u001b[0m\n\u001b[1;32m     10\u001b[0m         \u001b[0mcurr_price\u001b[0m \u001b[0;34m=\u001b[0m \u001b[0mprice\u001b[0m\u001b[0;34m[\u001b[0m\u001b[0;34m'FTMUSDT'\u001b[0m\u001b[0;34m]\u001b[0m\u001b[0;34m\u001b[0m\u001b[0;34m\u001b[0m\u001b[0m\n\u001b[0;32m---> 11\u001b[0;31m         \u001b[0;32mif\u001b[0m \u001b[0mportfolio\u001b[0m\u001b[0;34m[\u001b[0m\u001b[0;34m'FTM'\u001b[0m\u001b[0;34m]\u001b[0m \u001b[0;34m>\u001b[0m \u001b[0;36m0\u001b[0m\u001b[0;34m:\u001b[0m\u001b[0;34m\u001b[0m\u001b[0;34m\u001b[0m\u001b[0m\n\u001b[0m\u001b[1;32m     12\u001b[0m             \u001b[0;32mif\u001b[0m \u001b[0mpercent_diff\u001b[0m\u001b[0;34m(\u001b[0m\u001b[0mcurr_price\u001b[0m\u001b[0;34m,\u001b[0m \u001b[0mportfolio\u001b[0m\u001b[0;34m[\u001b[0m\u001b[0;34m'BuyPrice'\u001b[0m\u001b[0;34m]\u001b[0m\u001b[0;34m)\u001b[0m \u001b[0;34m>\u001b[0m \u001b[0mportfolio\u001b[0m\u001b[0;34m[\u001b[0m\u001b[0;34m'TradeLimit'\u001b[0m\u001b[0;34m]\u001b[0m\u001b[0;34m:\u001b[0m\u001b[0;34m\u001b[0m\u001b[0;34m\u001b[0m\u001b[0m\n\u001b[1;32m     13\u001b[0m                 \u001b[0msell_ftm\u001b[0m\u001b[0;34m(\u001b[0m\u001b[0mcurr_price\u001b[0m\u001b[0;34m)\u001b[0m\u001b[0;34m\u001b[0m\u001b[0;34m\u001b[0m\u001b[0m\n",
      "\u001b[0;31mKeyboardInterrupt\u001b[0m: "
     ]
    }
   ],
   "source": [
    "sleep(1)\n",
    "buy_ftm(price['FTMUSDT'])\n",
    "\n",
    "while True:\n",
    "    if price['error']:\n",
    "        bsm.stop_socket(conn_key)\n",
    "        bsm.start()\n",
    "        price['error'] = False\n",
    "    else:\n",
    "        curr_price = price['FTMUSDT']\n",
    "        if portfolio['FTM'] > 0:\n",
    "            if percent_diff(curr_price, portfolio['BuyPrice']) > portfolio['TradeLimit']:\n",
    "                sell_ftm(curr_price)\n",
    "        else:\n",
    "            if percent_diff(curr_price, portfolio['SellPrice']) < -1 * portfolio['TradeLimit']:\n",
    "                buy_ftm(curr_price)\n",
    "            elif (dt.now() - portfolio['TransTime']).seconds > 60 * 60:\n",
    "                buy_ftm(curr_price)"
   ]
  },
  {
   "cell_type": "code",
   "execution_count": 6,
   "metadata": {},
   "outputs": [],
   "source": [
    "bsm.stop_socket(conn_key)\n",
    "reactor.stop()"
   ]
  },
  {
   "cell_type": "code",
   "execution_count": 19,
   "metadata": {},
   "outputs": [
    {
     "data": {
      "text/plain": [
       "{'symbol': 'FTMUSDT',\n",
       " 'priceChange': '-0.08671000',\n",
       " 'priceChangePercent': '-15.448',\n",
       " 'weightedAvgPrice': '0.50943035',\n",
       " 'prevClosePrice': '0.56200000',\n",
       " 'lastPrice': '0.47460000',\n",
       " 'lastQty': '6234.90000000',\n",
       " 'bidPrice': '0.47436000',\n",
       " 'bidQty': '2400.00000000',\n",
       " 'askPrice': '0.47499000',\n",
       " 'askQty': '3936.20000000',\n",
       " 'openPrice': '0.56131000',\n",
       " 'highPrice': '0.63000000',\n",
       " 'lowPrice': '0.44500000',\n",
       " 'volume': '553801855.20000000',\n",
       " 'quoteVolume': '282123471.53681900',\n",
       " 'openTime': 1614356622896,\n",
       " 'closeTime': 1614443022896,\n",
       " 'firstId': 12001451,\n",
       " 'lastId': 12414145,\n",
       " 'count': 412695}"
      ]
     },
     "execution_count": 19,
     "metadata": {},
     "output_type": "execute_result"
    }
   ],
   "source": [
    "t = client.get_ticker(symbol='FTMUSDT')\n",
    "t"
   ]
  },
  {
   "cell_type": "code",
   "execution_count": 17,
   "metadata": {},
   "outputs": [
    {
     "data": {
      "text/plain": [
       "{'Initial': 600,\n",
       " 'USDT': 0,\n",
       " 'FTM': 1265.5489041449582,\n",
       " 'BuyPrice': 0.4735,\n",
       " 'SellPrice': 0.47448,\n",
       " 'TransTime': datetime.datetime(2021, 2, 28, 0, 17, 5, 374256),\n",
       " 'TransFee': 0.001,\n",
       " 'TradeLimit': 0.0015}"
      ]
     },
     "execution_count": 17,
     "metadata": {},
     "output_type": "execute_result"
    }
   ],
   "source": [
    "portfolio"
   ]
  },
  {
   "cell_type": "code",
   "execution_count": 21,
   "metadata": {},
   "outputs": [
    {
     "name": "stdout",
     "output_type": "stream",
     "text": [
      "\n",
      "Portfolio\n",
      "USDT:\t\t0\n",
      "FTM:\t\t1265.5489041449582\n",
      "    \t\t@ $0.47460000\n",
      "Networth:\t600.6295099071972\n",
      "Net Growth:\t0.629509907197189\n",
      "Percent Growth:\t0.10491831786619817%\n",
      "\n"
     ]
    }
   ],
   "source": [
    "PORTFOLIO_TEMPLATE = \"\"\"\n",
    "Portfolio\n",
    "USDT:\\t\\t{}\n",
    "FTM:\\t\\t{}\n",
    "    \\t\\t@ ${}\n",
    "Networth:\\t{}\n",
    "Net Growth:\\t{}\n",
    "Percent Growth:\\t{}%\n",
    "\"\"\"\n",
    "\n",
    "if portfolio['USDT'] > 0:\n",
    "    networth = portfolio['USDT']\n",
    "else:\n",
    "    networth = portfolio['FTM'] * float(t['lastPrice'])\n",
    "\n",
    "net_growth = networth - portfolio['Initial']\n",
    "percent_growth = net_growth / portfolio['Initial'] * 100\n",
    "\n",
    "print(PORTFOLIO_TEMPLATE.format(portfolio['USDT'], portfolio['FTM'], t['lastPrice'], networth, net_growth, percent_growth))"
   ]
  },
  {
   "cell_type": "code",
   "execution_count": 34,
   "metadata": {},
   "outputs": [],
   "source": [
    "INITIAL = 600\n",
    "PORTFOLIO = {'USDT': INITIAL, 'FTM': 0, 'BuyPrice': 0, 'SellPrice': 0, 'TransTime': dt.now(), 'TransFee': 0.001,\n",
    "             'TradeLimit': 0.0015}\n",
    "\n",
    "def scout_market(coin):\n",
    "    symbol = coin + 'USDT'\n",
    "    client = Client(BINANCE_API_KEY, BINANCE_SECRET_KEY)\n",
    "    curr_price = float(client.get_ticker(symbol=symbol)['lastPrice'])\n",
    "    if PORTFOLIO['FTM'] > 0:\n",
    "        if percent_diff(curr_price, PORTFOLIO['BuyPrice']) > PORTFOLIO['TradeLimit']:\n",
    "            sell_ftm(curr_price)\n",
    "    else:\n",
    "        if percent_diff(PORTFOLIO['SellPrice'], curr_price) > PORTFOLIO['TradeLimit']:\n",
    "            buy_ftm(curr_price)\n",
    "        elif (dt.now() - PORTFOLIO['TransTime']).seconds > 60 * 30:\n",
    "            buy_ftm(curr_price)\n",
    "\n",
    "def buy_ftm(price):\n",
    "    PORTFOLIO['FTM'] = PORTFOLIO['USDT'] / price * (1 - PORTFOLIO['TransFee'])\n",
    "    PORTFOLIO['USDT'] = 0\n",
    "    PORTFOLIO['BuyPrice'] = price\n",
    "    PORTFOLIO['TransTime'] = dt.now()\n",
    "    print('{}\\tBUY @ {}, FTM: {}, USDT: {}'.format(dt.now(), price, PORTFOLIO['FTM'], PORTFOLIO['USDT']))\n",
    "\n",
    "def sell_ftm(price):\n",
    "    PORTFOLIO['USDT'] = PORTFOLIO['FTM'] * price * (1 - PORTFOLIO['TransFee'])\n",
    "    PORTFOLIO['FTM'] = 0\n",
    "    PORTFOLIO['SellPrice'] = price\n",
    "    PORTFOLIO['TransTime'] = dt.now()\n",
    "    print('{}\\tSELL @ {}, FTM: {}, USDT: {}'.format(dt.now(), price, PORTFOLIO['FTM'], PORTFOLIO['USDT']))\n",
    "    \n",
    "def percent_diff(curr, prev):\n",
    "    return (curr - prev) / prev"
   ]
  },
  {
   "cell_type": "code",
   "execution_count": 35,
   "metadata": {},
   "outputs": [
    {
     "name": "stdout",
     "output_type": "stream",
     "text": [
      "2021-02-28 00:45:31.851286\tBUY @ 0.473, FTM: 1267.23044397463, USDT: 0\n"
     ]
    },
    {
     "data": {
      "text/plain": [
       "{'USDT': 0,\n",
       " 'FTM': 1267.23044397463,\n",
       " 'BuyPrice': 0.473,\n",
       " 'SellPrice': 0,\n",
       " 'TransTime': datetime.datetime(2021, 2, 28, 0, 45, 31, 851276),\n",
       " 'TransFee': 0.001,\n",
       " 'TradeLimit': 0.0015}"
      ]
     },
     "execution_count": 35,
     "metadata": {},
     "output_type": "execute_result"
    }
   ],
   "source": [
    "client = Client(BINANCE_API_KEY, BINANCE_SECRET_KEY)\n",
    "curr_price = float(client.get_ticker(symbol='FTMUSDT')['lastPrice'])\n",
    "buy_ftm(curr_price)\n",
    "PORTFOLIO"
   ]
  },
  {
   "cell_type": "code",
   "execution_count": 36,
   "metadata": {},
   "outputs": [],
   "source": [
    "scout_market('FTM')"
   ]
  },
  {
   "cell_type": "code",
   "execution_count": null,
   "metadata": {},
   "outputs": [],
   "source": []
  }
 ],
 "metadata": {
  "kernelspec": {
   "display_name": "Python 3",
   "language": "python",
   "name": "python3"
  },
  "language_info": {
   "codemirror_mode": {
    "name": "ipython",
    "version": 3
   },
   "file_extension": ".py",
   "mimetype": "text/x-python",
   "name": "python",
   "nbconvert_exporter": "python",
   "pygments_lexer": "ipython3",
   "version": "3.8.5"
  }
 },
 "nbformat": 4,
 "nbformat_minor": 4
}
