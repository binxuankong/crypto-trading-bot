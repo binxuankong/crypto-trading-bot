{
 "cells": [
  {
   "cell_type": "code",
   "execution_count": 8,
   "metadata": {},
   "outputs": [
    {
     "data": {
      "text/plain": [
       "<Response [200]>"
      ]
     },
     "execution_count": 8,
     "metadata": {},
     "output_type": "execute_result"
    }
   ],
   "source": [
    "import requests\n",
    "import pandas as pd\n",
    "import re\n",
    "from binance.client import Client\n",
    "from secrets import secrets\n",
    "\n",
    "auth = requests.auth.HTTPBasicAuth(secrets['REDDIT_API_KEY'], secrets['REDDIT_SECRET_KEY'])\n",
    "headers = {'User-Agent': 'MyBot/0.0.1'}\n",
    "\n",
    "data = {'grant_type': 'password', 'username': secrets['REDDIT_USERNAME'], 'password': secrets['REDDIT_PASSWORD']}\n",
    "res = requests.post('https://www.reddit.com/api/v1/access_token', auth=auth, data=data, headers=headers)\n",
    "TOKEN = res.json()['access_token']\n",
    "headers = {**headers, **{'Authorization': f\"bearer {TOKEN}\"}}\n",
    "requests.get('https://oauth.reddit.com/api/v1/me', headers=headers)"
   ]
  },
  {
   "cell_type": "code",
   "execution_count": 2,
   "metadata": {},
   "outputs": [
    {
     "data": {
      "text/plain": [
       "392"
      ]
     },
     "execution_count": 2,
     "metadata": {},
     "output_type": "execute_result"
    }
   ],
   "source": [
    "BINANCE_API_KEY = secrets['BINANCE_API_KEY']\n",
    "BINANCE_SECRET_KEY = secrets['BINANCE_SECRET_KEY']\n",
    "client = Client(BINANCE_API_KEY, BINANCE_SECRET_KEY)\n",
    "info = client.get_exchange_info()\n",
    "coins = [s['baseAsset'] for s in info['symbols']]\n",
    "coins = list(set(coins))\n",
    "len(coins)"
   ]
  },
  {
   "cell_type": "code",
   "execution_count": 9,
   "metadata": {},
   "outputs": [
    {
     "data": {
      "text/html": [
       "<div>\n",
       "<style scoped>\n",
       "    .dataframe tbody tr th:only-of-type {\n",
       "        vertical-align: middle;\n",
       "    }\n",
       "\n",
       "    .dataframe tbody tr th {\n",
       "        vertical-align: top;\n",
       "    }\n",
       "\n",
       "    .dataframe thead th {\n",
       "        text-align: right;\n",
       "    }\n",
       "</style>\n",
       "<table border=\"1\" class=\"dataframe\">\n",
       "  <thead>\n",
       "    <tr style=\"text-align: right;\">\n",
       "      <th></th>\n",
       "      <th>coin</th>\n",
       "      <th>mentions</th>\n",
       "    </tr>\n",
       "  </thead>\n",
       "  <tbody>\n",
       "    <tr>\n",
       "      <th>0</th>\n",
       "      <td>ETHBULL</td>\n",
       "      <td>0</td>\n",
       "    </tr>\n",
       "    <tr>\n",
       "      <th>1</th>\n",
       "      <td>CHZ</td>\n",
       "      <td>0</td>\n",
       "    </tr>\n",
       "    <tr>\n",
       "      <th>2</th>\n",
       "      <td>DNT</td>\n",
       "      <td>0</td>\n",
       "    </tr>\n",
       "    <tr>\n",
       "      <th>3</th>\n",
       "      <td>STRAX</td>\n",
       "      <td>0</td>\n",
       "    </tr>\n",
       "    <tr>\n",
       "      <th>4</th>\n",
       "      <td>WAN</td>\n",
       "      <td>0</td>\n",
       "    </tr>\n",
       "  </tbody>\n",
       "</table>\n",
       "</div>"
      ],
      "text/plain": [
       "      coin  mentions\n",
       "0  ETHBULL         0\n",
       "1      CHZ         0\n",
       "2      DNT         0\n",
       "3    STRAX         0\n",
       "4      WAN         0"
      ]
     },
     "execution_count": 9,
     "metadata": {},
     "output_type": "execute_result"
    }
   ],
   "source": [
    "df = pd.DataFrame(columns=['coin', 'mentions'])\n",
    "df['coin'] = coins\n",
    "df['mentions'] = 0\n",
    "df.head()"
   ]
  },
  {
   "cell_type": "code",
   "execution_count": 5,
   "metadata": {},
   "outputs": [],
   "source": [
    "res = requests.get(\"https://oauth.reddit.com/r/cryptocurrency/hot\", headers=headers, params={'limit': 10})\n",
    "\n",
    "for post in res.json()['data']['children']:\n",
    "    if 'Daily Discussion' in post['data']['title']:\n",
    "        daily_id = post['data']['id']\n",
    "        break"
   ]
  },
  {
   "cell_type": "code",
   "execution_count": 6,
   "metadata": {},
   "outputs": [
    {
     "data": {
      "text/plain": [
       "138"
      ]
     },
     "execution_count": 6,
     "metadata": {},
     "output_type": "execute_result"
    }
   ],
   "source": [
    "res2 = requests.get(\"https://oauth.reddit.com/r/cryptocurrency/comments/\" + daily_id, headers=headers,\n",
    "                    params={'limit': 1000})\n",
    "len(res2.json()[1]['data']['children'])"
   ]
  },
  {
   "cell_type": "code",
   "execution_count": 28,
   "metadata": {},
   "outputs": [],
   "source": [
    "text = 'test this stupid shit.'\n",
    "pattern = r'\\b{}\\b'.format('hit')\n",
    "if re.search(pattern, text) is not None:\n",
    "    print('yes')"
   ]
  },
  {
   "cell_type": "code",
   "execution_count": 29,
   "metadata": {},
   "outputs": [
    {
     "data": {
      "text/html": [
       "<div>\n",
       "<style scoped>\n",
       "    .dataframe tbody tr th:only-of-type {\n",
       "        vertical-align: middle;\n",
       "    }\n",
       "\n",
       "    .dataframe tbody tr th {\n",
       "        vertical-align: top;\n",
       "    }\n",
       "\n",
       "    .dataframe thead th {\n",
       "        text-align: right;\n",
       "    }\n",
       "</style>\n",
       "<table border=\"1\" class=\"dataframe\">\n",
       "  <thead>\n",
       "    <tr style=\"text-align: right;\">\n",
       "      <th></th>\n",
       "      <th>coin</th>\n",
       "      <th>mentions</th>\n",
       "    </tr>\n",
       "  </thead>\n",
       "  <tbody>\n",
       "    <tr>\n",
       "      <th>186</th>\n",
       "      <td>ETH</td>\n",
       "      <td>26</td>\n",
       "    </tr>\n",
       "    <tr>\n",
       "      <th>180</th>\n",
       "      <td>BTC</td>\n",
       "      <td>16</td>\n",
       "    </tr>\n",
       "    <tr>\n",
       "      <th>225</th>\n",
       "      <td>XLM</td>\n",
       "      <td>16</td>\n",
       "    </tr>\n",
       "    <tr>\n",
       "      <th>93</th>\n",
       "      <td>LTO</td>\n",
       "      <td>12</td>\n",
       "    </tr>\n",
       "    <tr>\n",
       "      <th>127</th>\n",
       "      <td>ADA</td>\n",
       "      <td>9</td>\n",
       "    </tr>\n",
       "    <tr>\n",
       "      <th>272</th>\n",
       "      <td>VET</td>\n",
       "      <td>6</td>\n",
       "    </tr>\n",
       "    <tr>\n",
       "      <th>390</th>\n",
       "      <td>BNB</td>\n",
       "      <td>4</td>\n",
       "    </tr>\n",
       "    <tr>\n",
       "      <th>184</th>\n",
       "      <td>XRP</td>\n",
       "      <td>2</td>\n",
       "    </tr>\n",
       "    <tr>\n",
       "      <th>282</th>\n",
       "      <td>ZIL</td>\n",
       "      <td>2</td>\n",
       "    </tr>\n",
       "    <tr>\n",
       "      <th>130</th>\n",
       "      <td>CAKE</td>\n",
       "      <td>2</td>\n",
       "    </tr>\n",
       "  </tbody>\n",
       "</table>\n",
       "</div>"
      ],
      "text/plain": [
       "     coin  mentions\n",
       "186   ETH        26\n",
       "180   BTC        16\n",
       "225   XLM        16\n",
       "93    LTO        12\n",
       "127   ADA         9\n",
       "272   VET         6\n",
       "390   BNB         4\n",
       "184   XRP         2\n",
       "282   ZIL         2\n",
       "130  CAKE         2"
      ]
     },
     "execution_count": 29,
     "metadata": {},
     "output_type": "execute_result"
    }
   ],
   "source": [
    "df2 = df.copy()\n",
    "\n",
    "def get_comments(p_comment):\n",
    "    if 'body' not in p_comment:\n",
    "        return ''\n",
    "    text = p_comment['body']\n",
    "    replies = p_comment['replies']\n",
    "    if len(replies) > 0:\n",
    "        for c_comment in replies['data']['children']:\n",
    "            text += ' ' + get_comments(c_comment['data'])\n",
    "    return text\n",
    "\n",
    "for post in res2.json()[1]['data']['children']:\n",
    "    text = get_comments(post['data'])\n",
    "    for coin in coins:\n",
    "        pattern = r'\\b{}\\b'.format(coin)\n",
    "        if re.search(pattern, text) is not None:\n",
    "            df2.loc[df['coin'] == coin, 'mentions'] += 1\n",
    "\n",
    "df2 = df2.sort_values(by='mentions', ascending=False)\n",
    "df2.head(10)"
   ]
  },
  {
   "cell_type": "code",
   "execution_count": null,
   "metadata": {},
   "outputs": [],
   "source": [
    "res = requests.get(\"https://oauth.reddit.com/r/cryptocurrency/new\", headers=headers, params={'limit': 50})\n",
    "\n",
    "for post in res.json()['data']['children']:\n",
    "    text = post['data']['title'] + ' ' + post['data']['selftext']\n",
    "    res2 = requests.get(\"https://oauth.reddit.com/r/cryptocurrency/comments/\" + post['data']['id'],\n",
    "                        headers=headers)\n",
    "    for p_comment in res2.json():\n",
    "        for c_comment in p_comment['data']['children']:\n",
    "            if 'body' in c_comment['data'].keys():\n",
    "                text = text + ' ' + c_comment['data']['body']\n",
    "    for coin in coins:\n",
    "        if coin in text:\n",
    "            df.loc[df['coin'] == coin, 'mentions'] += 1\n",
    "\n",
    "df = df.sort_values(by='mentions', ascending=False)\n",
    "df.head(10)"
   ]
  },
  {
   "cell_type": "code",
   "execution_count": null,
   "metadata": {},
   "outputs": [],
   "source": [
    "res = requests.get(\"https://oauth.reddit.com/r/cryptocurrency/hot\", headers=headers, params={'limit': 100})\n",
    "\n",
    "for post in res.json()['data']['children']:\n",
    "    text = post['data']['title'] + ' ' + post['data']['selftext']\n",
    "    for coin in coins:\n",
    "        if coin in text:\n",
    "            df.loc[df['coin'] == coin, 'mentions'] += 1\n",
    "\n",
    "df = df.sort_values(by='mentions', ascending=False)\n",
    "df.head(10)"
   ]
  },
  {
   "cell_type": "code",
   "execution_count": null,
   "metadata": {},
   "outputs": [],
   "source": [
    "df.head(10).to_dict('records')"
   ]
  },
  {
   "cell_type": "code",
   "execution_count": null,
   "metadata": {},
   "outputs": [],
   "source": [
    "def get_reddit_trending(coins, sub='cryptocurrency', mode='hot'):\n",
    "    auth = requests.auth.HTTPBasicAuth(secrets['REDDIT_API_KEY'], secrets['REDDIT_SECRET_KEY'])\n",
    "    headers = {'User-Agent': 'MyBot/0.0.1'}\n",
    "    data = {'grant_type': 'password', 'username': secrets['REDDIT_USERNAME'], 'password': secrets['REDDIT_PASSWORD']}\n",
    "    res = requests.post('https://www.reddit.com/api/v1/access_token', auth=auth, data=data, headers=headers)\n",
    "    TOKEN = res.json()['access_token']\n",
    "    headers = {**headers, **{'Authorization': f\"bearer {TOKEN}\"}}\n",
    "    df = pd.DataFrame(columns=['coin', 'mentions'])\n",
    "    df['coin'] = coins\n",
    "    df['mentions'] = 0\n",
    "    res = requests.get('https://oauth.reddit.com/r/{}/{}'.format(sub, mode), headers=headers, params={'limit': 100})\n",
    "    for post in res.json()['data']['children']:\n",
    "        text = post['data']['title'] + ' ' + post['data']['selftext']\n",
    "        for coin in coins:\n",
    "            if coin in text:\n",
    "                df.loc[df['coin'] == coin, 'mentions'] += 1\n",
    "    df = df.sort_values(by='mentions', ascending=False)\n",
    "    return df.head(10).to_dict('records')"
   ]
  },
  {
   "cell_type": "code",
   "execution_count": null,
   "metadata": {},
   "outputs": [],
   "source": [
    "get_reddit_trending(coins)"
   ]
  },
  {
   "cell_type": "code",
   "execution_count": null,
   "metadata": {},
   "outputs": [],
   "source": []
  }
 ],
 "metadata": {
  "kernelspec": {
   "display_name": "Python 3",
   "language": "python",
   "name": "python3"
  },
  "language_info": {
   "codemirror_mode": {
    "name": "ipython",
    "version": 3
   },
   "file_extension": ".py",
   "mimetype": "text/x-python",
   "name": "python",
   "nbconvert_exporter": "python",
   "pygments_lexer": "ipython3",
   "version": "3.8.5"
  }
 },
 "nbformat": 4,
 "nbformat_minor": 4
}
