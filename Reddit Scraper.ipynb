{
 "cells": [
  {
   "cell_type": "code",
   "execution_count": 1,
   "metadata": {},
   "outputs": [
    {
     "data": {
      "text/plain": [
       "<Response [200]>"
      ]
     },
     "execution_count": 1,
     "metadata": {},
     "output_type": "execute_result"
    }
   ],
   "source": [
    "import requests\n",
    "import pandas as pd\n",
    "from binance.client import Client\n",
    "from secrets import secrets\n",
    "\n",
    "auth = requests.auth.HTTPBasicAuth(secrets['REDDIT_API_KEY'], secrets['REDDIT_SECRET_KEY'])\n",
    "headers = {'User-Agent': 'MyBot/0.0.1'}\n",
    "\n",
    "data = {'grant_type': 'password', 'username': secrets['REDDIT_USERNAME'], 'password': secrets['REDDIT_PASSWORD']}\n",
    "res = requests.post('https://www.reddit.com/api/v1/access_token', auth=auth, data=data, headers=headers)\n",
    "TOKEN = res.json()['access_token']\n",
    "headers = {**headers, **{'Authorization': f\"bearer {TOKEN}\"}}\n",
    "requests.get('https://oauth.reddit.com/api/v1/me', headers=headers)"
   ]
  },
  {
   "cell_type": "code",
   "execution_count": 2,
   "metadata": {},
   "outputs": [
    {
     "data": {
      "text/plain": [
       "392"
      ]
     },
     "execution_count": 2,
     "metadata": {},
     "output_type": "execute_result"
    }
   ],
   "source": [
    "BINANCE_API_KEY = secrets['BINANCE_API_KEY']\n",
    "BINANCE_SECRET_KEY = secrets['BINANCE_SECRET_KEY']\n",
    "client = Client(BINANCE_API_KEY, BINANCE_SECRET_KEY)\n",
    "info = client.get_exchange_info()\n",
    "coins = [s['baseAsset'] for s in info['symbols']]\n",
    "coins = list(set(coins))\n",
    "len(coins)"
   ]
  },
  {
   "cell_type": "code",
   "execution_count": 86,
   "metadata": {},
   "outputs": [
    {
     "data": {
      "text/html": [
       "<div>\n",
       "<style scoped>\n",
       "    .dataframe tbody tr th:only-of-type {\n",
       "        vertical-align: middle;\n",
       "    }\n",
       "\n",
       "    .dataframe tbody tr th {\n",
       "        vertical-align: top;\n",
       "    }\n",
       "\n",
       "    .dataframe thead th {\n",
       "        text-align: right;\n",
       "    }\n",
       "</style>\n",
       "<table border=\"1\" class=\"dataframe\">\n",
       "  <thead>\n",
       "    <tr style=\"text-align: right;\">\n",
       "      <th></th>\n",
       "      <th>coin</th>\n",
       "      <th>mentions</th>\n",
       "    </tr>\n",
       "  </thead>\n",
       "  <tbody>\n",
       "    <tr>\n",
       "      <th>0</th>\n",
       "      <td>LIT</td>\n",
       "      <td>0</td>\n",
       "    </tr>\n",
       "    <tr>\n",
       "      <th>1</th>\n",
       "      <td>BEAM</td>\n",
       "      <td>0</td>\n",
       "    </tr>\n",
       "    <tr>\n",
       "      <th>2</th>\n",
       "      <td>OG</td>\n",
       "      <td>0</td>\n",
       "    </tr>\n",
       "    <tr>\n",
       "      <th>3</th>\n",
       "      <td>BTC</td>\n",
       "      <td>0</td>\n",
       "    </tr>\n",
       "    <tr>\n",
       "      <th>4</th>\n",
       "      <td>WPR</td>\n",
       "      <td>0</td>\n",
       "    </tr>\n",
       "  </tbody>\n",
       "</table>\n",
       "</div>"
      ],
      "text/plain": [
       "   coin  mentions\n",
       "0   LIT         0\n",
       "1  BEAM         0\n",
       "2    OG         0\n",
       "3   BTC         0\n",
       "4   WPR         0"
      ]
     },
     "execution_count": 86,
     "metadata": {},
     "output_type": "execute_result"
    }
   ],
   "source": [
    "df = pd.DataFrame(columns=['coin', 'mentions'])\n",
    "df['coin'] = coins\n",
    "df['mentions'] = 0\n",
    "df.head()"
   ]
  },
  {
   "cell_type": "code",
   "execution_count": 92,
   "metadata": {},
   "outputs": [],
   "source": [
    "res = requests.get(\"https://oauth.reddit.com/r/cryptocurrency/hot\", headers=headers, params={'limit': 10})\n",
    "\n",
    "for post in res.json()['data']['children']:\n",
    "    if 'Daily Discussion' in post['data']['title']:\n",
    "        daily_id = post['data']['id']\n",
    "        break"
   ]
  },
  {
   "cell_type": "code",
   "execution_count": 102,
   "metadata": {},
   "outputs": [
    {
     "data": {
      "text/plain": [
       "166"
      ]
     },
     "execution_count": 102,
     "metadata": {},
     "output_type": "execute_result"
    }
   ],
   "source": [
    "res2 = requests.get(\"https://oauth.reddit.com/r/cryptocurrency/comments/\" + daily_id, headers=headers,\n",
    "                    params={'limit': 1000})\n",
    "len(res2.json()[1]['data']['children'])"
   ]
  },
  {
   "cell_type": "code",
   "execution_count": 103,
   "metadata": {},
   "outputs": [
    {
     "data": {
      "text/html": [
       "<div>\n",
       "<style scoped>\n",
       "    .dataframe tbody tr th:only-of-type {\n",
       "        vertical-align: middle;\n",
       "    }\n",
       "\n",
       "    .dataframe tbody tr th {\n",
       "        vertical-align: top;\n",
       "    }\n",
       "\n",
       "    .dataframe thead th {\n",
       "        text-align: right;\n",
       "    }\n",
       "</style>\n",
       "<table border=\"1\" class=\"dataframe\">\n",
       "  <thead>\n",
       "    <tr style=\"text-align: right;\">\n",
       "      <th></th>\n",
       "      <th>coin</th>\n",
       "      <th>mentions</th>\n",
       "    </tr>\n",
       "  </thead>\n",
       "  <tbody>\n",
       "    <tr>\n",
       "      <th>3</th>\n",
       "      <td>BTC</td>\n",
       "      <td>31</td>\n",
       "    </tr>\n",
       "    <tr>\n",
       "      <th>17</th>\n",
       "      <td>ETH</td>\n",
       "      <td>16</td>\n",
       "    </tr>\n",
       "    <tr>\n",
       "      <th>391</th>\n",
       "      <td>LTO</td>\n",
       "      <td>12</td>\n",
       "    </tr>\n",
       "    <tr>\n",
       "      <th>80</th>\n",
       "      <td>OM</td>\n",
       "      <td>10</td>\n",
       "    </tr>\n",
       "    <tr>\n",
       "      <th>354</th>\n",
       "      <td>ICX</td>\n",
       "      <td>10</td>\n",
       "    </tr>\n",
       "    <tr>\n",
       "      <th>226</th>\n",
       "      <td>VET</td>\n",
       "      <td>9</td>\n",
       "    </tr>\n",
       "    <tr>\n",
       "      <th>254</th>\n",
       "      <td>XLM</td>\n",
       "      <td>7</td>\n",
       "    </tr>\n",
       "    <tr>\n",
       "      <th>150</th>\n",
       "      <td>ONE</td>\n",
       "      <td>6</td>\n",
       "    </tr>\n",
       "    <tr>\n",
       "      <th>228</th>\n",
       "      <td>ADA</td>\n",
       "      <td>6</td>\n",
       "    </tr>\n",
       "    <tr>\n",
       "      <th>36</th>\n",
       "      <td>ZIL</td>\n",
       "      <td>5</td>\n",
       "    </tr>\n",
       "  </tbody>\n",
       "</table>\n",
       "</div>"
      ],
      "text/plain": [
       "    coin  mentions\n",
       "3    BTC        31\n",
       "17   ETH        16\n",
       "391  LTO        12\n",
       "80    OM        10\n",
       "354  ICX        10\n",
       "226  VET         9\n",
       "254  XLM         7\n",
       "150  ONE         6\n",
       "228  ADA         6\n",
       "36   ZIL         5"
      ]
     },
     "execution_count": 103,
     "metadata": {},
     "output_type": "execute_result"
    }
   ],
   "source": [
    "def get_comments(p_comment):\n",
    "    if 'body' not in p_comment:\n",
    "        return ''\n",
    "    text = p_comment['body']\n",
    "    replies = p_comment['replies']\n",
    "    if len(replies) > 0:\n",
    "        for c_comment in replies['data']['children']:\n",
    "            text += ' ' + get_comments(c_comment['data'])\n",
    "    return text\n",
    "\n",
    "for post in res2.json()[1]['data']['children']:\n",
    "    text = get_comments(post['data'])\n",
    "    for coin in coins:\n",
    "        if coin in text:\n",
    "            df.loc[df['coin'] == coin, 'mentions'] += 1\n",
    "\n",
    "df = df.sort_values(by='mentions', ascending=False)\n",
    "df.head(10)"
   ]
  },
  {
   "cell_type": "code",
   "execution_count": null,
   "metadata": {},
   "outputs": [],
   "source": [
    "res = requests.get(\"https://oauth.reddit.com/r/cryptocurrency/new\", headers=headers, params={'limit': 50})\n",
    "\n",
    "for post in res.json()['data']['children']:\n",
    "    text = post['data']['title'] + ' ' + post['data']['selftext']\n",
    "    res2 = requests.get(\"https://oauth.reddit.com/r/cryptocurrency/comments/\" + post['data']['id'],\n",
    "                        headers=headers)\n",
    "    for p_comment in res2.json():\n",
    "        for c_comment in p_comment['data']['children']:\n",
    "            if 'body' in c_comment['data'].keys():\n",
    "                text = text + ' ' + c_comment['data']['body']\n",
    "    for coin in coins:\n",
    "        if coin in text:\n",
    "            df.loc[df['coin'] == coin, 'mentions'] += 1\n",
    "\n",
    "df = df.sort_values(by='mentions', ascending=False)\n",
    "df.head(10)"
   ]
  },
  {
   "cell_type": "code",
   "execution_count": null,
   "metadata": {},
   "outputs": [],
   "source": [
    "res = requests.get(\"https://oauth.reddit.com/r/cryptocurrency/hot\", headers=headers, params={'limit': 100})\n",
    "\n",
    "for post in res.json()['data']['children']:\n",
    "    text = post['data']['title'] + ' ' + post['data']['selftext']\n",
    "    for coin in coins:\n",
    "        if coin in text:\n",
    "            df.loc[df['coin'] == coin, 'mentions'] += 1\n",
    "\n",
    "df = df.sort_values(by='mentions', ascending=False)\n",
    "df.head(10)"
   ]
  },
  {
   "cell_type": "code",
   "execution_count": null,
   "metadata": {},
   "outputs": [],
   "source": [
    "df.head(10).to_dict('records')"
   ]
  },
  {
   "cell_type": "code",
   "execution_count": null,
   "metadata": {},
   "outputs": [],
   "source": [
    "def get_reddit_trending(coins, sub='cryptocurrency', mode='hot'):\n",
    "    auth = requests.auth.HTTPBasicAuth(secrets['REDDIT_API_KEY'], secrets['REDDIT_SECRET_KEY'])\n",
    "    headers = {'User-Agent': 'MyBot/0.0.1'}\n",
    "    data = {'grant_type': 'password', 'username': secrets['REDDIT_USERNAME'], 'password': secrets['REDDIT_PASSWORD']}\n",
    "    res = requests.post('https://www.reddit.com/api/v1/access_token', auth=auth, data=data, headers=headers)\n",
    "    TOKEN = res.json()['access_token']\n",
    "    headers = {**headers, **{'Authorization': f\"bearer {TOKEN}\"}}\n",
    "    df = pd.DataFrame(columns=['coin', 'mentions'])\n",
    "    df['coin'] = coins\n",
    "    df['mentions'] = 0\n",
    "    res = requests.get('https://oauth.reddit.com/r/{}/{}'.format(sub, mode), headers=headers, params={'limit': 100})\n",
    "    for post in res.json()['data']['children']:\n",
    "        text = post['data']['title'] + ' ' + post['data']['selftext']\n",
    "        for coin in coins:\n",
    "            if coin in text:\n",
    "                df.loc[df['coin'] == coin, 'mentions'] += 1\n",
    "    df = df.sort_values(by='mentions', ascending=False)\n",
    "    return df.head(10).to_dict('records')"
   ]
  },
  {
   "cell_type": "code",
   "execution_count": null,
   "metadata": {},
   "outputs": [],
   "source": [
    "get_reddit_trending(coins)"
   ]
  },
  {
   "cell_type": "code",
   "execution_count": null,
   "metadata": {},
   "outputs": [],
   "source": []
  }
 ],
 "metadata": {
  "kernelspec": {
   "display_name": "Python 3",
   "language": "python",
   "name": "python3"
  },
  "language_info": {
   "codemirror_mode": {
    "name": "ipython",
    "version": 3
   },
   "file_extension": ".py",
   "mimetype": "text/x-python",
   "name": "python",
   "nbconvert_exporter": "python",
   "pygments_lexer": "ipython3",
   "version": "3.8.5"
  }
 },
 "nbformat": 4,
 "nbformat_minor": 4
}
