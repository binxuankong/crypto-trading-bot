{
 "cells": [
  {
   "cell_type": "code",
   "execution_count": 1,
   "metadata": {},
   "outputs": [],
   "source": [
    "import pandas as pd\n",
    "from datetime import datetime as dt\n",
    "from binance.client import Client\n",
    "from sqlalchemy import create_engine\n",
    "from secrets import secrets"
   ]
  },
  {
   "cell_type": "code",
   "execution_count": 2,
   "metadata": {},
   "outputs": [],
   "source": [
    "BINANCE_API_KEY = secrets['BINANCE_API_KEY']\n",
    "BINANCE_SECRET_KEY = secrets['BINANCE_SECRET_KEY']\n",
    "DATABASE_URL = secrets['DATABASE_URL']\n",
    "\n",
    "BRIDGE = 'USDT'\n",
    "TRANS_FEE = 0.0075\n",
    "CHAT_ID = 123"
   ]
  },
  {
   "cell_type": "code",
   "execution_count": 3,
   "metadata": {},
   "outputs": [],
   "source": [
    "df_invest = pd.DataFrame(columns=['Id', 'Date', 'Amount'])\n",
    "df_buy = pd.DataFrame(columns=['Id', 'Date', 'Coin', 'UsdAmount', 'CoinAmount'])\n",
    "df_sell = pd.DataFrame(columns=['Id', 'Date', 'Coin', 'CoinAmount', 'UsdAmount'])"
   ]
  },
  {
   "cell_type": "code",
   "execution_count": 4,
   "metadata": {},
   "outputs": [],
   "source": [
    "# df_pf = pd.DataFrame(columns=['Id', 'Coin', 'Amount'])\n",
    "df_trans = pd.DataFrame(columns=['Id', 'Date', 'Action', 'USD', 'Coin', 'Amount', 'Price'])"
   ]
  },
  {
   "cell_type": "markdown",
   "metadata": {},
   "source": [
    "### Invest"
   ]
  },
  {
   "cell_type": "code",
   "execution_count": 5,
   "metadata": {},
   "outputs": [],
   "source": [
    "def modify_portfolio(chat_id, coin, amount):\n",
    "    curr_amount = df_pf.loc[(df_pf['Id'] == chat_id) & (df_pf['Coin'] == coin), 'Amount']\n",
    "    if len(curr_amount) > 0:\n",
    "        df_pf.loc[(df_pf['Id'] == chat_id) & (df_pf['Coin'] == coin), 'Amount'] += amount\n",
    "    else:\n",
    "        df_pf.loc[len(df_pf)] = [chat_id, coin, amount]"
   ]
  },
  {
   "cell_type": "code",
   "execution_count": 6,
   "metadata": {},
   "outputs": [],
   "source": [
    "def invest(chat_id, amount):\n",
    "    df_trans.loc[len(df_trans)] = [chat_id, dt.now(), 'IN', amount, None, None, None]\n",
    "    # modify_portfolio(chat_id, 'USD', amount)"
   ]
  },
  {
   "cell_type": "markdown",
   "metadata": {},
   "source": [
    "### Buy"
   ]
  },
  {
   "cell_type": "code",
   "execution_count": 7,
   "metadata": {},
   "outputs": [],
   "source": [
    "def check_price(coin):\n",
    "    symbol = coin + BRIDGE\n",
    "    client = Client(BINANCE_API_KEY, BINANCE_SECRET_KEY)\n",
    "    t = client.get_ticker(symbol=symbol)\n",
    "    return float(t['lastPrice'])"
   ]
  },
  {
   "cell_type": "code",
   "execution_count": 8,
   "metadata": {},
   "outputs": [],
   "source": [
    "def buy(chat_id, coin, amount):\n",
    "    df_temp = df_trans.loc[df_trans['Id'] == chat_id]\n",
    "    curr_amount = df_trans['USD'].sum()\n",
    "    if curr_amount < amount:\n",
    "        return -1\n",
    "    price = check_price(coin)\n",
    "    new_amount = (amount / price) * (1 - TRANS_FEE)\n",
    "    df_trans.loc[len(df_trans)] = [chat_id, dt.now(), 'BUY', -1 * amount, coin, new_amount, price]\n",
    "    # df_pf.loc[(df_pf['Id'] == chat_id) & (df_pf['Coin'] == 'USD'), 'Amount'] -= amount\n",
    "    # modify_portfolio(chat_id, coin, new_amount)\n",
    "    return 0"
   ]
  },
  {
   "cell_type": "markdown",
   "metadata": {},
   "source": [
    "### Sell"
   ]
  },
  {
   "cell_type": "code",
   "execution_count": 9,
   "metadata": {},
   "outputs": [],
   "source": [
    "def sell(chat_id, coin, amount):\n",
    "    df_temp = df_trans.loc[(df_trans['Id'] == chat_id) & (df_trans['Coin'] == coin)]\n",
    "    curr_amount = df_trans['Amount'].sum()\n",
    "    if curr_amount < amount:\n",
    "        return -1\n",
    "    price = check_price(coin)\n",
    "    new_amount = amount * price * (1 - TRANS_FEE)\n",
    "    df_trans.loc[len(df_trans)] = [chat_id, dt.now(), 'SELL', new_amount, coin, -1 * amount, price]\n",
    "    # df_pf.loc[(df_pf['Id'] == chat_id) & (df_pf['Coin'] == coin), 'Amount'] -= amount\n",
    "    # modify_portfolio(chat_id, 'USD', new_amount)\n",
    "    return 0"
   ]
  },
  {
   "cell_type": "markdown",
   "metadata": {},
   "source": [
    "### Test"
   ]
  },
  {
   "cell_type": "code",
   "execution_count": 10,
   "metadata": {},
   "outputs": [
    {
     "data": {
      "text/plain": [
       "0"
      ]
     },
     "execution_count": 10,
     "metadata": {},
     "output_type": "execute_result"
    }
   ],
   "source": [
    "invest(CHAT_ID, 1000)\n",
    "buy(CHAT_ID, 'BTC', 1000)\n",
    "sell(CHAT_ID, 'BTC', 0.01)\n",
    "buy(CHAT_ID, 'BNB', 500)\n",
    "sell(CHAT_ID, 'BNB', 0.5)"
   ]
  },
  {
   "cell_type": "code",
   "execution_count": 11,
   "metadata": {},
   "outputs": [
    {
     "data": {
      "text/html": [
       "<div>\n",
       "<style scoped>\n",
       "    .dataframe tbody tr th:only-of-type {\n",
       "        vertical-align: middle;\n",
       "    }\n",
       "\n",
       "    .dataframe tbody tr th {\n",
       "        vertical-align: top;\n",
       "    }\n",
       "\n",
       "    .dataframe thead th {\n",
       "        text-align: right;\n",
       "    }\n",
       "</style>\n",
       "<table border=\"1\" class=\"dataframe\">\n",
       "  <thead>\n",
       "    <tr style=\"text-align: right;\">\n",
       "      <th></th>\n",
       "      <th>Id</th>\n",
       "      <th>Date</th>\n",
       "      <th>Action</th>\n",
       "      <th>USD</th>\n",
       "      <th>Coin</th>\n",
       "      <th>Amount</th>\n",
       "      <th>Price</th>\n",
       "    </tr>\n",
       "  </thead>\n",
       "  <tbody>\n",
       "    <tr>\n",
       "      <th>0</th>\n",
       "      <td>123</td>\n",
       "      <td>2021-04-12 00:00:31.111637</td>\n",
       "      <td>IN</td>\n",
       "      <td>1000</td>\n",
       "      <td>None</td>\n",
       "      <td>None</td>\n",
       "      <td>None</td>\n",
       "    </tr>\n",
       "    <tr>\n",
       "      <th>1</th>\n",
       "      <td>123</td>\n",
       "      <td>2021-04-12 00:00:31.966630</td>\n",
       "      <td>BUY</td>\n",
       "      <td>-1000</td>\n",
       "      <td>BTC</td>\n",
       "      <td>0.0166084</td>\n",
       "      <td>59758.8</td>\n",
       "    </tr>\n",
       "    <tr>\n",
       "      <th>2</th>\n",
       "      <td>123</td>\n",
       "      <td>2021-04-12 00:00:32.785623</td>\n",
       "      <td>SELL</td>\n",
       "      <td>593.108</td>\n",
       "      <td>BTC</td>\n",
       "      <td>-0.01</td>\n",
       "      <td>59759</td>\n",
       "    </tr>\n",
       "    <tr>\n",
       "      <th>3</th>\n",
       "      <td>123</td>\n",
       "      <td>2021-04-12 00:00:33.786456</td>\n",
       "      <td>BUY</td>\n",
       "      <td>-500</td>\n",
       "      <td>BNB</td>\n",
       "      <td>1.00458</td>\n",
       "      <td>493.988</td>\n",
       "    </tr>\n",
       "    <tr>\n",
       "      <th>4</th>\n",
       "      <td>123</td>\n",
       "      <td>2021-04-12 00:00:34.569564</td>\n",
       "      <td>SELL</td>\n",
       "      <td>245.148</td>\n",
       "      <td>BNB</td>\n",
       "      <td>-0.5</td>\n",
       "      <td>494</td>\n",
       "    </tr>\n",
       "  </tbody>\n",
       "</table>\n",
       "</div>"
      ],
      "text/plain": [
       "    Id                       Date Action      USD  Coin     Amount    Price\n",
       "0  123 2021-04-12 00:00:31.111637     IN     1000  None       None     None\n",
       "1  123 2021-04-12 00:00:31.966630    BUY    -1000   BTC  0.0166084  59758.8\n",
       "2  123 2021-04-12 00:00:32.785623   SELL  593.108   BTC      -0.01    59759\n",
       "3  123 2021-04-12 00:00:33.786456    BUY     -500   BNB    1.00458  493.988\n",
       "4  123 2021-04-12 00:00:34.569564   SELL  245.148   BNB       -0.5      494"
      ]
     },
     "execution_count": 11,
     "metadata": {},
     "output_type": "execute_result"
    }
   ],
   "source": [
    "df_trans"
   ]
  },
  {
   "cell_type": "code",
   "execution_count": 12,
   "metadata": {},
   "outputs": [
    {
     "name": "stdout",
     "output_type": "stream",
     "text": [
      "<class 'pandas.core.frame.DataFrame'>\n",
      "Int64Index: 5 entries, 0 to 4\n",
      "Data columns (total 7 columns):\n",
      " #   Column  Non-Null Count  Dtype         \n",
      "---  ------  --------------  -----         \n",
      " 0   Id      5 non-null      object        \n",
      " 1   Date    5 non-null      datetime64[ns]\n",
      " 2   Action  5 non-null      object        \n",
      " 3   USD     5 non-null      object        \n",
      " 4   Coin    4 non-null      object        \n",
      " 5   Amount  4 non-null      object        \n",
      " 6   Price   4 non-null      object        \n",
      "dtypes: datetime64[ns](1), object(6)\n",
      "memory usage: 320.0+ bytes\n"
     ]
    }
   ],
   "source": [
    "df_trans.info()"
   ]
  },
  {
   "cell_type": "markdown",
   "metadata": {},
   "source": [
    "### Portfolio"
   ]
  },
  {
   "cell_type": "code",
   "execution_count": 13,
   "metadata": {},
   "outputs": [],
   "source": [
    "def portfolio(chat_id):\n",
    "    df_temp = df_trans.loc[df_trans['Id'] == chat_id]\n",
    "    initial = df_temp.loc[df_temp['Action'] == 'IN', 'USD'].sum()\n",
    "    curr_usd = df_temp['USD'].sum()\n",
    "    df_coins = df_temp.groupby('Coin')['Amount'].sum().reset_index()\n",
    "    df_coins = df_temp.groupby('Coin')['Amount'].sum().reset_index()\n",
    "    df_coins['Price'] = df_coins['Coin'].apply(lambda x: check_price(x))\n",
    "    df_coins['Value'] = df_coins['Amount'] * df_coins['Price']\n",
    "    curr_val = curr_usd + df_coins['Value'].sum()\n",
    "    profit = curr_val - initial\n",
    "    percent = profit / initial\n",
    "    return curr_val, profit, percent"
   ]
  },
  {
   "cell_type": "code",
   "execution_count": 14,
   "metadata": {},
   "outputs": [
    {
     "data": {
      "text/plain": [
       "(982.4095348027399, -17.590465197260073, -0.017590465197260072)"
      ]
     },
     "execution_count": 14,
     "metadata": {},
     "output_type": "execute_result"
    }
   ],
   "source": [
    "portfolio(CHAT_ID)"
   ]
  },
  {
   "cell_type": "code",
   "execution_count": 16,
   "metadata": {},
   "outputs": [
    {
     "data": {
      "text/html": [
       "<div>\n",
       "<style scoped>\n",
       "    .dataframe tbody tr th:only-of-type {\n",
       "        vertical-align: middle;\n",
       "    }\n",
       "\n",
       "    .dataframe tbody tr th {\n",
       "        vertical-align: top;\n",
       "    }\n",
       "\n",
       "    .dataframe thead th {\n",
       "        text-align: right;\n",
       "    }\n",
       "</style>\n",
       "<table border=\"1\" class=\"dataframe\">\n",
       "  <thead>\n",
       "    <tr style=\"text-align: right;\">\n",
       "      <th></th>\n",
       "      <th>Coin</th>\n",
       "      <th>Amount</th>\n",
       "      <th>Price</th>\n",
       "      <th>Value</th>\n",
       "    </tr>\n",
       "  </thead>\n",
       "  <tbody>\n",
       "    <tr>\n",
       "      <th>0</th>\n",
       "      <td>BNB</td>\n",
       "      <td>0.504580</td>\n",
       "      <td>493.3548</td>\n",
       "      <td>248.936902</td>\n",
       "    </tr>\n",
       "    <tr>\n",
       "      <th>1</th>\n",
       "      <td>BTC</td>\n",
       "      <td>0.006608</td>\n",
       "      <td>59749.3300</td>\n",
       "      <td>394.850082</td>\n",
       "    </tr>\n",
       "  </tbody>\n",
       "</table>\n",
       "</div>"
      ],
      "text/plain": [
       "  Coin    Amount       Price       Value\n",
       "0  BNB  0.504580    493.3548  248.936902\n",
       "1  BTC  0.006608  59749.3300  394.850082"
      ]
     },
     "execution_count": 16,
     "metadata": {},
     "output_type": "execute_result"
    }
   ],
   "source": [
    "df_coins = df_trans.groupby('Coin')['Amount'].sum().reset_index()\n",
    "df_coins['Price'] = df_coins['Coin'].apply(lambda x: check_price(x))\n",
    "df_coins['Value'] = df_coins['Amount'] * df_coins['Price']\n",
    "df_coins.head()"
   ]
  },
  {
   "cell_type": "markdown",
   "metadata": {},
   "source": [
    "### To SQL"
   ]
  },
  {
   "cell_type": "code",
   "execution_count": 17,
   "metadata": {},
   "outputs": [],
   "source": [
    "engine = create_engine(DATABASE_URL)\n",
    "# df_pf.to_sql('Portfolio', engine, index=False, if_exists='replace')\n",
    "df_trans.to_sql('Transaction', engine, index=False, if_exists='replace')\n",
    "engine.dispose()"
   ]
  },
  {
   "cell_type": "code",
   "execution_count": null,
   "metadata": {},
   "outputs": [],
   "source": []
  }
 ],
 "metadata": {
  "kernelspec": {
   "display_name": "Python 3",
   "language": "python",
   "name": "python3"
  },
  "language_info": {
   "codemirror_mode": {
    "name": "ipython",
    "version": 3
   },
   "file_extension": ".py",
   "mimetype": "text/x-python",
   "name": "python",
   "nbconvert_exporter": "python",
   "pygments_lexer": "ipython3",
   "version": "3.8.5"
  }
 },
 "nbformat": 4,
 "nbformat_minor": 4
}
